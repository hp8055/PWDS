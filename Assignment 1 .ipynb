{
 "cells": [
  {
   "cell_type": "code",
   "execution_count": 2,
   "id": "639df3a3",
   "metadata": {},
   "outputs": [],
   "source": [
    "#Q1\n",
    "\n",
    "# (i) String\n",
    "my_string = \"Hello, World!\"\n",
    "\n",
    "# (ii) List\n",
    "my_list = [1, 2, 3, 4, 5]\n",
    "\n",
    "# (iii) Float\n",
    "my_float = 33.21\n",
    "\n",
    "# (iv) Tuple\n",
    "my_tuple = (10, 20, 30, 40, 50)"
   ]
  },
  {
   "cell_type": "code",
   "execution_count": 3,
   "id": "cd83a975",
   "metadata": {},
   "outputs": [],
   "source": [
    "#Q2\n",
    "\n",
    "# (i) var1 is a string.\n",
    "# Data type: String\n",
    "\n",
    "# (ii) var2 is a string.\n",
    "# Data type: String\n",
    "\n",
    "# (iii) var3 is a list.\n",
    "# Data type: List\n",
    "\n",
    "# (iv) var4 is an integer.\n",
    "# Data type: Integer"
   ]
  },
  {
   "cell_type": "code",
   "execution_count": 4,
   "id": "3c93ea2b",
   "metadata": {},
   "outputs": [
    {
     "name": "stdout",
     "output_type": "stream",
     "text": [
      "3.3333333333333335\n"
     ]
    }
   ],
   "source": [
    "#Q3\n",
    "\n",
    "# (i) / (Division Operator):\n",
    "# The / operator is used for division, which returns the quotient (result of division) as a floating-point number.\n",
    "a = 10\n",
    "b = 3\n",
    "result = a / b\n",
    "print(result) \n"
   ]
  },
  {
   "cell_type": "code",
   "execution_count": 5,
   "id": "40df3a1d",
   "metadata": {},
   "outputs": [
    {
     "name": "stdout",
     "output_type": "stream",
     "text": [
      "3\n"
     ]
    }
   ],
   "source": [
    "#Q3\n",
    "\n",
    "# (ii) % (Modulus Operator):\n",
    "# The % operator calculates the remainder when one number is divided by another.\n",
    "\n",
    "x = 15\n",
    "y = 4\n",
    "remainder = x % y\n",
    "print(remainder)\n"
   ]
  },
  {
   "cell_type": "code",
   "execution_count": 6,
   "id": "b4b9487c",
   "metadata": {},
   "outputs": [
    {
     "name": "stdout",
     "output_type": "stream",
     "text": [
      "2\n"
     ]
    }
   ],
   "source": [
    "#Q3\n",
    "\n",
    "# (iii) // (Floor Division Operator):\n",
    "# The // operator performs floor division, which returns the quotient as an integer by rounding down the result to the nearest integer.\n",
    "\n",
    "\n",
    "p = 20\n",
    "q = 7\n",
    "result_floor = p // q\n",
    "print(result_floor)  \n"
   ]
  },
  {
   "cell_type": "code",
   "execution_count": 8,
   "id": "000874e6",
   "metadata": {},
   "outputs": [
    {
     "name": "stdout",
     "output_type": "stream",
     "text": [
      "8\n"
     ]
    }
   ],
   "source": [
    "#Q3\n",
    "\n",
    "# (iv) ** (Exponentiation Operator):\n",
    "# The ** operator is used for exponentiation, where the left operand is raised to the power of the right operand.\n",
    "\n",
    "base = 2\n",
    "exponent = 3\n",
    "result_exp = base ** exponent\n",
    "print(result_exp)  \n"
   ]
  },
  {
   "cell_type": "code",
   "execution_count": 9,
   "id": "3099f352",
   "metadata": {},
   "outputs": [
    {
     "name": "stdout",
     "output_type": "stream",
     "text": [
      "Element: 10, Data Type: <class 'int'>\n",
      "Element: 3.14, Data Type: <class 'float'>\n",
      "Element: Hello, Data Type: <class 'str'>\n",
      "Element: True, Data Type: <class 'bool'>\n",
      "Element: [1, 2, 3], Data Type: <class 'list'>\n",
      "Element: ('apple', 'banana'), Data Type: <class 'tuple'>\n",
      "Element: {'name': 'Alice', 'age': 25}, Data Type: <class 'dict'>\n",
      "Element: None, Data Type: <class 'NoneType'>\n",
      "Element: (5+2j), Data Type: <class 'complex'>\n",
      "Element: False, Data Type: <class 'bool'>\n"
     ]
    }
   ],
   "source": [
    "#Q4\n",
    "\n",
    "my_list = [10, 3.14, \"Hello\", True, [1, 2, 3], (\"apple\", \"banana\"), {\"name\": \"Alice\", \"age\": 25}, None, 5 + 2j, False]\n",
    "\n",
    "for element in my_list:\n",
    "    print(f\"Element: {element}, Data Type: {type(element)}\")\n"
   ]
  },
  {
   "cell_type": "code",
   "execution_count": 14,
   "id": "a3efc46c",
   "metadata": {},
   "outputs": [
    {
     "name": "stdout",
     "output_type": "stream",
     "text": [
      "Enter the number A: 10\n",
      "Enter the number B: 5\n",
      "0 is divisible by 5, and it can be divided 2 times.\n"
     ]
    }
   ],
   "source": [
    "#Q5\n",
    "\n",
    "# Input numbers A and B\n",
    "A = int(input(\"Enter the number A: \"))\n",
    "B = int(input(\"Enter the number B: \"))\n",
    "\n",
    "# Initialize a counter for the number of divisions\n",
    "divisions = 0\n",
    "\n",
    "# Check if A is divisible by B\n",
    "while A >= B:\n",
    "    A = A - B  # Subtract B from A\n",
    "    divisions += 1  # Increment the counter\n",
    "\n",
    "# Output the result\n",
    "if A == 0:\n",
    "    print(f\"{A} is divisible by {B}, and it can be divided {divisions} times.\")\n",
    "else:\n",
    "    print(f\"{A} is not divisible by {B}.\")"
   ]
  },
  {
   "cell_type": "code",
   "execution_count": 21,
   "id": "0dc266ee",
   "metadata": {},
   "outputs": [
    {
     "name": "stdout",
     "output_type": "stream",
     "text": [
      "12 is divisible by 3\n",
      "8 is not divisible by 3\n",
      "9 is divisible by 3\n",
      "27 is divisible by 3\n",
      "15 is divisible by 3\n",
      "6 is divisible by 3\n",
      "21 is divisible by 3\n",
      "18 is divisible by 3\n",
      "5 is not divisible by 3\n",
      "30 is divisible by 3\n",
      "17 is not divisible by 3\n",
      "22 is not divisible by 3\n",
      "13 is not divisible by 3\n",
      "14 is not divisible by 3\n",
      "4 is not divisible by 3\n",
      "20 is not divisible by 3\n",
      "7 is not divisible by 3\n",
      "19 is not divisible by 3\n",
      "24 is divisible by 3\n",
      "1 is not divisible by 3\n",
      "16 is not divisible by 3\n",
      "3 is divisible by 3\n",
      "23 is not divisible by 3\n",
      "2 is not divisible by 3\n",
      "11 is not divisible by 3\n"
     ]
    }
   ],
   "source": [
    "#Q6\n",
    "\n",
    "my_list = [12, 8, 9, 27, 15, 6, 21, 18, 5, 30,\n",
    "               17, 22, 13, 14, 4, 20, 7, 19, 24, 1,\n",
    "               16, 3, 23, 2, 11]\n",
    "\n",
    "# Using a for loop to iterate through the list\n",
    "for num in my_list:\n",
    "    if num % 3 == 0:\n",
    "        print(f\"{num} is divisible by 3\")\n",
    "    else:\n",
    "        print(f\"{num} is not divisible by 3\")\n",
    "        \n",
    "    "
   ]
  },
  {
   "cell_type": "code",
   "execution_count": 22,
   "id": "b5c62d9f",
   "metadata": {},
   "outputs": [
    {
     "name": "stdout",
     "output_type": "stream",
     "text": [
      "[10, 3, 4]\n",
      "Hello World\n",
      "(1, 2, 3, 4, 5)\n"
     ]
    }
   ],
   "source": [
    "#Q7\n",
    "\n",
    "# Lists are mutable\n",
    "my_list = [1, 2, 3]\n",
    "my_list[0] = 10  # Modifying an element\n",
    "my_list.append(4)  # Adding an element\n",
    "my_list.remove(2)  # Removing an element\n",
    "print(my_list)  # Output: [10, 3, 4]\n",
    "\n",
    "# Strings are immutable\n",
    "my_string = \"Hello\"\n",
    "new_string = my_string + \" World\"  # Creating a new string\n",
    "print(new_string)  # Output: \"Hello World\"\n",
    "\n",
    "# Tuples are immutable\n",
    "my_tuple = (1, 2, 3)\n",
    "# my_tuple[0] = 10  # This will result in an error\n",
    "new_tuple = my_tuple + (4, 5)  # Creating a new tuple\n",
    "print(new_tuple)  # Output: (1, 2, 3, 4, 5)\n"
   ]
  },
  {
   "cell_type": "code",
   "execution_count": 24,
   "id": "96529e61",
   "metadata": {},
   "outputs": [],
   "source": [
    "# Assignment Submitted by Hrishikesh Pai \n",
    "# Email:-hrishi140@gmail.com\n",
    "# :)"
   ]
  },
  {
   "cell_type": "code",
   "execution_count": null,
   "id": "9820d950",
   "metadata": {},
   "outputs": [],
   "source": []
  }
 ],
 "metadata": {
  "kernelspec": {
   "display_name": "Python 3 (ipykernel)",
   "language": "python",
   "name": "python3"
  },
  "language_info": {
   "codemirror_mode": {
    "name": "ipython",
    "version": 3
   },
   "file_extension": ".py",
   "mimetype": "text/x-python",
   "name": "python",
   "nbconvert_exporter": "python",
   "pygments_lexer": "ipython3",
   "version": "3.9.16"
  }
 },
 "nbformat": 4,
 "nbformat_minor": 5
}
