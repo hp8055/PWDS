{
  "nbformat": 4,
  "nbformat_minor": 0,
  "metadata": {
    "colab": {
      "provenance": []
    },
    "kernelspec": {
      "name": "python3",
      "display_name": "Python 3"
    },
    "language_info": {
      "name": "python"
    }
  },
  "cells": [
    {
      "cell_type": "code",
      "execution_count": 2,
      "metadata": {
        "id": "qMw8oR3V9r8T"
      },
      "outputs": [],
      "source": [
        "# Q1\n",
        "# GET Method:\n",
        "\n",
        "# Purpose: The GET method is used to request data from a specified resource.\n",
        "\n",
        "# Data in URL: Data is appended to the URL in the form of parameters (key-value pairs) and is visible in the address bar.\n",
        "\n",
        "# Caching: GET requests can be cached, bookmarked, and are idempotent (making the same request multiple times has the same effect as making it once).\n",
        "\n",
        "# Security: Parameters are exposed in the URL, so it is not suitable for sensitive data. It is commonly used for read-only operations.\n",
        "\n",
        "# POST Method:\n",
        "\n",
        "# Purpose: The POST method is used to submit data to be processed to a specified resource.\n",
        "\n",
        "# Data in Body: Data is sent in the body of the HTTP request rather than in the URL, providing a more secure and private way to send data.\n",
        "\n",
        "# Caching: POST requests are not cached, and they are not idempotent (making the same request multiple times may have different effects).\n",
        "\n",
        "# Security: Suitable for sensitive data as the parameters are not visible in the URL. It is commonly used for write operations.\n",
        "\n",
        "# In summary, the key differences between the GET and POST methods lie in their purposes, where GET is used for retrieving data, and POST is used for submitting data.\n",
        "# GET appends data to the URL, while POST sends data in the request body.\n",
        "# GET requests are often cached, and parameters are visible in the URL, while POST requests are not cached and are more suitable for handling sensitive data."
      ]
    },
    {
      "cell_type": "code",
      "source": [
        "# Q2\n",
        "\n",
        "# In Flask, the request object is used to access incoming request data from a client, such as form data, query parameters, and other HTTP request information. It provides a convenient way to interact with data sent by a client to the server.\n",
        "\n",
        "# Here are some common use cases for the request object in Flask:\n",
        "\n",
        "# Accessing Form Data:\n",
        "\n",
        "# When a user submits a form on a webpage, the form data is included in the HTTP request. The request object allows you to access this form data, making it easy to handle user inputs.\n",
        "\n",
        "# from flask import Flask, request\n",
        "\n",
        "# app = Flask(__name__)\n",
        "\n",
        "# @app.route('/submit', methods=['POST'])\n",
        "# def submit_form():\n",
        "#     username = request.form.get('username')\n",
        "#     password = request.form.get('password')\n",
        "#     # Process the form data\n",
        "#     return f'Received form data - Username: {username}, Password: {password}'\n",
        "\n",
        "# Query Parameters:\n",
        "\n",
        "# When a client sends data through the URL as query parameters, the request object allows you to access these parameters.\n",
        "# from flask import Flask, request\n",
        "\n",
        "# app = Flask(__name__)\n",
        "\n",
        "# @app.route('/search', methods=['GET'])\n",
        "# def search():\n",
        "#     query = request.args.get('query')\n",
        "#     # Perform a search based on the query parameter\n",
        "#     return f'Searching for: {query}'\n",
        "\n"
      ],
      "metadata": {
        "id": "RXhLJ80B_7Xm"
      },
      "execution_count": 4,
      "outputs": []
    },
    {
      "cell_type": "code",
      "source": [
        "# Q3\n",
        "# In Flask, the redirect() function is used to redirect a client's request to a different URL. It is a helpful feature when you want to guide users to another endpoint or page within your application or to an external URL.\n",
        "\n",
        "# Here are some common use cases for the redirect() function in Flask:\n",
        "\n",
        "# Redirecting to Another Endpoint:\n",
        "\n",
        "# You can use redirect() to send the user to a different endpoint within your Flask application.\n",
        "# from flask import Flask, redirect, url_for\n",
        "\n",
        "# app = Flask(__name__)\n",
        "\n",
        "# @app.route('/')\n",
        "# def home():\n",
        "#     # Redirect to the 'dashboard' endpoint\n",
        "#     return redirect(url_for('dashboard'))\n",
        "\n",
        "# @app.route('/dashboard')\n",
        "# def dashboard():\n",
        "#     return 'Welcome to the Dashboard!'\n"
      ],
      "metadata": {
        "id": "SramZJMKAkRi"
      },
      "execution_count": 5,
      "outputs": []
    },
    {
      "cell_type": "code",
      "source": [
        "# Q4\n",
        "\n",
        "# In Flask, templates are used to separate the presentation logic (HTML markup) from the application logic (Python code). Templates allow you to create dynamic web pages by inserting dynamic content into static HTML structures. Flask uses the Jinja2 templating engine for rendering templates.\n",
        "\n",
        "# Key Points about Templates in Flask:\n",
        "\n",
        "# File Format: Templates are typically stored in files with the .html or .jinja extension.\n",
        "\n",
        "# Variables and Expressions: You can embed variables and expressions within templates to display dynamic content.\n",
        "\n",
        "# Control Structures: Templates support control structures like loops and conditionals to enable dynamic content generation.\n",
        "\n",
        "# Template Inheritance: Flask templates support template inheritance, allowing you to create a base template with a common structure and extend it in other templates.\n",
        "\n",
        "# The render_template() function in Flask is used to render templates by combining them with data. It takes the template filename as an argument and can accept additional keyword arguments representing data that should be passed to the template.\n",
        "\n"
      ],
      "metadata": {
        "id": "x5L2dFN9BLhY"
      },
      "execution_count": 6,
      "outputs": []
    },
    {
      "cell_type": "code",
      "source": [
        "# #Q5\n",
        "# from flask import Flask, jsonify, request\n",
        "\n",
        "# app = Flask(__name__)\n",
        "\n",
        "# @app.route('/api/greet', methods=['POST'])\n",
        "# def greet():\n",
        "#     data = request.get_json()\n",
        "#     name = data.get('name', 'Guest')\n",
        "#     message = f'Hello, {name}!'\n",
        "#     return jsonify({'message': message})\n",
        "\n",
        "# if __name__ == '__main__':\n",
        "#     app.run(debug=True)\n",
        "\n",
        "# screenshot attached for your reference\n",
        "\n",
        "# # https://drive.google.com/file/d/10QGYl5Fv6oq9w2fhRkM4GVxKNdGXxmOV/view?usp=sharing"
      ],
      "metadata": {
        "id": "XdHi-Hd2HmyO"
      },
      "execution_count": 8,
      "outputs": []
    },
    {
      "cell_type": "code",
      "source": [],
      "metadata": {
        "id": "AWUKMn0xLWQC"
      },
      "execution_count": null,
      "outputs": []
    }
  ]
}