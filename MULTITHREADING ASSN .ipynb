{
 "cells": [
  {
   "cell_type": "code",
   "execution_count": 2,
   "id": "aa809ea0",
   "metadata": {},
   "outputs": [],
   "source": [
    "# Q1\n",
    "\n",
    "# Multithreading in Python refers to the ability of a program to concurrently execute multiple threads of execution within a single process. \n",
    "# Each thread represents a separate flow of control, allowing different parts of the program to execute concurrently.\n",
    "\n",
    "# Multithreading is used to achieve parallelism, which can improve the performance and responsiveness of certain types of applications, especially those that perform I/O-bound or CPU-bound tasks.\n",
    "# In python threading module is used to handle threads."
   ]
  },
  {
   "cell_type": "code",
   "execution_count": 3,
   "id": "36741c58",
   "metadata": {},
   "outputs": [],
   "source": [
    "# Q2\n",
    "# This module provides a high-level interface for working with threads and simplifies the process of creating, managing, and synchronizing threads in a Python program.\n",
    "# The threading module allows you to create and start threads, synchronize access to shared resources, and coordinate the execution of multiple threads.\n",
    "\n",
    "# activeCount(): This function returns the number of Thread objects currently alive. A Thread object represents a single thread of control within a program.\n",
    "# The activeCount() function is useful for monitoring the number of active threads in a multithreaded program.\n",
    "\n",
    "# currentThread(): This function returns the currently executing Thread object.\n",
    "# It's useful for obtaining information about the thread in which the function is called, such as its name or identifier.\n",
    "\n",
    "# enumerate(): This function returns a list of all active Thread objects.\n",
    "# It's helpful for inspecting and managing the threads currently running in a program."
   ]
  },
  {
   "cell_type": "code",
   "execution_count": 4,
   "id": "8397b291",
   "metadata": {},
   "outputs": [],
   "source": [
    "# Q3\n",
    "# run(): This method represents the entry point for the thread's activity.\n",
    "# You can override this method in a subclass to define the code that will be executed when the thread is started.\n",
    "\n",
    "# start(): This method starts the thread's activity by calling the run() method.\n",
    "# It initializes the thread and begins its execution.\n",
    "\n",
    "# join(timeout=None): This method blocks the calling thread until the thread whose join() method is called completes its execution or until the specified timeout (in seconds) expires.\n",
    "    \n",
    "# isAlive(): This method returns a boolean indicating whether the thread is alive or not.\n",
    "# A thread is considered alive from the moment it is started until it terminates."
   ]
  },
  {
   "cell_type": "code",
   "execution_count": 27,
   "id": "4e16eec0",
   "metadata": {},
   "outputs": [],
   "source": [
    "# Q4\n",
    "import threading"
   ]
  },
  {
   "cell_type": "code",
   "execution_count": 28,
   "id": "d6c120c8",
   "metadata": {},
   "outputs": [],
   "source": [
    "def sq(num):\n",
    "    a = num**2\n",
    "    print( f'sq of {num} is {a}')\n",
    "def cube(num):\n",
    "    a = num**3\n",
    "    print( f'cube of {num} is {a}')"
   ]
  },
  {
   "cell_type": "code",
   "execution_count": 29,
   "id": "85a8c1b4",
   "metadata": {},
   "outputs": [],
   "source": [
    "thrd1 = [threading.Thread(target=sq , args=(i,) )for i in range(10)]"
   ]
  },
  {
   "cell_type": "code",
   "execution_count": 30,
   "id": "9d3e76ec",
   "metadata": {},
   "outputs": [],
   "source": [
    "thrd2 = [threading.Thread(target=cube , args=(i,) )for i in range(10)]"
   ]
  },
  {
   "cell_type": "code",
   "execution_count": 31,
   "id": "29c4ec39",
   "metadata": {},
   "outputs": [
    {
     "name": "stdout",
     "output_type": "stream",
     "text": [
      "sq of 0 is 0\n",
      "sq of 1 is 1\n",
      "sq of 2 is 4\n",
      "sq of 3 is 9\n",
      "sq of 4 is 16\n",
      "sq of 5 is 25\n",
      "sq of 6 is 36\n",
      "sq of 7 is 49\n",
      "sq of 8 is 64\n",
      "sq of 9 is 81\n"
     ]
    }
   ],
   "source": [
    "for t in thrd1:\n",
    "    t.start()"
   ]
  },
  {
   "cell_type": "code",
   "execution_count": 32,
   "id": "3be98c33",
   "metadata": {},
   "outputs": [
    {
     "name": "stdout",
     "output_type": "stream",
     "text": [
      "cube of 0 is 0\n",
      "cube of 1 is 1\n",
      "cube of 2 is 8\n",
      "cube of 3 is 27\n",
      "cube of 4 is 64\n",
      "cube of 5 is 125\n",
      "cube of 6 is 216\n",
      "cube of 7 is 343\n",
      "cube of 8 is 512\n",
      "cube of 9 is 729\n"
     ]
    }
   ],
   "source": [
    "for t in thrd2:\n",
    "    t.start()"
   ]
  },
  {
   "cell_type": "code",
   "execution_count": 34,
   "id": "22abc4f5",
   "metadata": {},
   "outputs": [],
   "source": [
    "# Q5\n",
    "# Multithreading offers several advantages and disadvantages, which are important to consider when deciding whether to use it in a particular application:\n",
    "\n",
    "# **Advantages:**\n",
    "\n",
    "# 1. **Improved Performance**: Multithreading can lead to improved performance by allowing multiple tasks to run concurrently. This is particularly beneficial for applications that perform tasks that can be parallelized, such as I/O-bound or CPU-bound operations.\n",
    "\n",
    "# 2. **Resource Sharing**: Threads within the same process share the same memory space, allowing them to share data and resources more efficiently than separate processes. This can lead to better resource utilization and reduced overhead compared to using multiple processes.\n",
    "\n",
    "# 3. **Responsive User Interfaces**: Multithreading can keep the user interface responsive by offloading long-running tasks to background threads. This prevents the UI from freezing or becoming unresponsive while the application performs other tasks.\n",
    "\n",
    "# 4. **Simplified Code**: Multithreading can simplify the design and implementation of certain types of applications, such as servers or GUI applications, by allowing you to express concurrency more naturally in the code.\n",
    "\n",
    "# **Disadvantages:**\n",
    "\n",
    "# 1. **Complexity**: Multithreaded programming introduces complexity and potential pitfalls, such as race conditions, deadlock, and thread synchronization issues. Writing correct and efficient multithreaded code requires careful design and thorough understanding of concurrency concepts.\n",
    "\n",
    "# 2. **Concurrency Bugs**: Multithreading can introduce concurrency bugs that are difficult to reproduce and debug. These bugs can lead to unpredictable behavior, data corruption, and security vulnerabilities if not handled properly.\n",
    "\n",
    "# 3. **Resource Contention**: Threads may contend for shared resources, such as CPU time, memory, or I/O devices, leading to performance degradation or bottlenecks. Proper synchronization and resource management are required to mitigate contention issues.\n",
    "\n",
    "# 4. **Overhead**: Multithreading can introduce overhead in terms of memory and CPU usage, as well as additional complexity in managing threads and synchronization mechanisms. In some cases, the overhead of multithreading may outweigh the benefits, especially for simple or I/O-bound tasks.\n",
    "\n",
    "# 5. **Platform Dependencies**: Multithreading behavior can vary across different platforms and operating systems, leading to portability issues and platform-specific behavior. Care must be taken to ensure consistent behavior across different environments.\n",
    "\n",
    "# Overall, while multithreading offers potential performance improvements and concurrency benefits, it also comes with inherent complexity and challenges that need to be carefully considered and managed in the design and implementation of multithreaded applications."
   ]
  },
  {
   "cell_type": "code",
   "execution_count": 35,
   "id": "e8a62cc7",
   "metadata": {},
   "outputs": [],
   "source": [
    "# Q6\n",
    "# A deadlock occurs when two or more threads are blocked forever, waiting for each other to release resources that they need to proceed. Deadlocks typically occur when multiple threads acquire locks on resources in a way that creates a circular dependency.\n",
    "# As a result, none of the threads can proceed, leading to a deadlock situation.\n",
    "\n",
    "# A race condition occurs when the behavior of a program depends on the relative timing or interleaving of operations performed by multiple threads. Race conditions typically arise when multiple threads access and modify shared resources concurrently without proper synchronization.\n",
    "# The result of a race condition can be non-deterministic and lead to incorrect behavior, data corruption, or program crashes."
   ]
  },
  {
   "cell_type": "code",
   "execution_count": null,
   "id": "c1940d20",
   "metadata": {},
   "outputs": [],
   "source": []
  }
 ],
 "metadata": {
  "kernelspec": {
   "display_name": "Python 3 (ipykernel)",
   "language": "python",
   "name": "python3"
  },
  "language_info": {
   "codemirror_mode": {
    "name": "ipython",
    "version": 3
   },
   "file_extension": ".py",
   "mimetype": "text/x-python",
   "name": "python",
   "nbconvert_exporter": "python",
   "pygments_lexer": "ipython3",
   "version": "3.9.16"
  }
 },
 "nbformat": 4,
 "nbformat_minor": 5
}
