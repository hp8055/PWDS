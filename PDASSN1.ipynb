{
 "cells": [
  {
   "cell_type": "code",
   "execution_count": 14,
   "id": "6c7c4c2a-919f-4f7a-b75d-6942e5b5e745",
   "metadata": {},
   "outputs": [
    {
     "data": {
      "text/plain": [
       "pandas.core.frame.DataFrame"
      ]
     },
     "execution_count": 14,
     "metadata": {},
     "output_type": "execute_result"
    }
   ],
   "source": [
    "#Q1\n",
    "import pandas as pd\n",
    "d = [4,8,15,16,23,42]\n",
    "df = pd.DataFrame(d)\n",
    "type(df)"
   ]
  },
  {
   "cell_type": "code",
   "execution_count": 8,
   "id": "5c304a7c-9e63-42d5-9672-8475c95dbbaa",
   "metadata": {},
   "outputs": [
    {
     "name": "stdout",
     "output_type": "stream",
     "text": [
      "0    0\n",
      "1    1\n",
      "2    2\n",
      "3    3\n",
      "4    4\n",
      "5    5\n",
      "6    6\n",
      "7    7\n",
      "8    8\n",
      "9    9\n",
      "dtype: int64\n"
     ]
    },
    {
     "data": {
      "text/plain": [
       "pandas.core.series.Series"
      ]
     },
     "execution_count": 8,
     "metadata": {},
     "output_type": "execute_result"
    }
   ],
   "source": [
    "#Q2\n",
    "d = [0,1,2,3,4,5,6,7,8,9]\n",
    "df = pd.Series(d)\n",
    "print(df)\n",
    "type(df)"
   ]
  },
  {
   "cell_type": "code",
   "execution_count": 16,
   "id": "c7c55375-5419-4eab-8d46-186db56f0464",
   "metadata": {},
   "outputs": [],
   "source": [
    "#Q3\n",
    "d = {'Name':['Alice','Bob','Claire'],\n",
    "     'Age':[25,30,27],\n",
    "     'Gender':['Female','Male','Female']}"
   ]
  },
  {
   "cell_type": "code",
   "execution_count": 19,
   "id": "a7bbc5ce-deef-48ab-9eb5-a028030a9866",
   "metadata": {},
   "outputs": [
    {
     "name": "stdout",
     "output_type": "stream",
     "text": [
      "     Name  Age  Gender\n",
      "0   Alice   25  Female\n",
      "1     Bob   30    Male\n",
      "2  Claire   27  Female\n"
     ]
    }
   ],
   "source": [
    "df = pd.DataFrame(d)\n",
    "print(df)"
   ]
  },
  {
   "cell_type": "code",
   "execution_count": 20,
   "id": "c45735bb-d2c0-4c00-b089-8293b9adf0e3",
   "metadata": {},
   "outputs": [],
   "source": [
    "# Q4\n",
    "# A DataFrame in pandas is a 2-dimensional labeled data structure with columns of potentially different types. It's like a spreadsheet or SQL table, where each column can be of a different type (e.g., integer, float, string).\n",
    " \n",
    "# A pandas Series is a one-dimensional labeled array capable of holding any data type. It's like a single column in a DataFrame.\n",
    " \n",
    "# Here's a brief example:\n",
    "\n"
   ]
  },
  {
   "cell_type": "code",
   "execution_count": 21,
   "id": "22da532b-17bb-4a1e-abf6-a9065e2925ef",
   "metadata": {},
   "outputs": [
    {
     "name": "stdout",
     "output_type": "stream",
     "text": [
      "    Name  Age      City\n",
      "0   John   25  New York\n",
      "1   Anna   30     Paris\n",
      "2  Peter   35    London\n",
      "3  Linda   40     Tokyo\n"
     ]
    }
   ],
   "source": [
    "data = {'Name': ['John', 'Anna', 'Peter', 'Linda'],\n",
    "        'Age': [25, 30, 35, 40],\n",
    "        'City': ['New York', 'Paris', 'London', 'Tokyo']}\n",
    "df = pd.DataFrame(data)\n",
    "print(df)"
   ]
  },
  {
   "cell_type": "code",
   "execution_count": 22,
   "id": "72633d68-4c30-43b9-a721-9718da800568",
   "metadata": {},
   "outputs": [],
   "source": [
    "# In this example, `df` is a DataFrame with three columns: 'Name', 'Age', and 'City'. Each column is a pandas Series."
   ]
  },
  {
   "cell_type": "code",
   "execution_count": 23,
   "id": "10aa1e73-1544-47bd-b1ce-c25145dc0cf0",
   "metadata": {},
   "outputs": [
    {
     "name": "stdout",
     "output_type": "stream",
     "text": [
      "0    25\n",
      "1    30\n",
      "2    35\n",
      "3    40\n",
      "Name: Age, dtype: int64\n"
     ]
    }
   ],
   "source": [
    "ages = df['Age']\n",
    "print(ages)"
   ]
  },
  {
   "cell_type": "code",
   "execution_count": 24,
   "id": "a53889c9-a73b-4160-876c-a012d6bb312e",
   "metadata": {},
   "outputs": [],
   "source": [
    "# Here, `ages` is a Series containing the ages of individuals from the DataFrame."
   ]
  },
  {
   "cell_type": "code",
   "execution_count": 27,
   "id": "d25902b0-d324-435b-80a0-ce35a6573730",
   "metadata": {},
   "outputs": [
    {
     "name": "stdout",
     "output_type": "stream",
     "text": [
      "    Name  Age      City\n",
      "0   John   25  New York\n",
      "1   Anna   30     Paris\n",
      "2  Peter   35    London\n",
      "3  Linda   40     Tokyo\n",
      "    Name  Age    City\n",
      "1   Anna   30   Paris\n",
      "2  Peter   35  London\n",
      "3  Linda   40   Tokyo\n",
      "             Age\n",
      "count   4.000000\n",
      "mean   32.500000\n",
      "std     6.454972\n",
      "min    25.000000\n",
      "25%    28.750000\n",
      "50%    32.500000\n",
      "75%    36.250000\n",
      "max    40.000000\n",
      "<class 'pandas.core.frame.DataFrame'>\n",
      "RangeIndex: 4 entries, 0 to 3\n",
      "Data columns (total 3 columns):\n",
      " #   Column  Non-Null Count  Dtype \n",
      "---  ------  --------------  ----- \n",
      " 0   Name    4 non-null      object\n",
      " 1   Age     4 non-null      int64 \n",
      " 2   City    4 non-null      object\n",
      "dtypes: int64(1), object(2)\n",
      "memory usage: 224.0+ bytes\n",
      "None\n"
     ]
    },
    {
     "name": "stderr",
     "output_type": "stream",
     "text": [
      "/tmp/ipykernel_70/1790557516.py:28: FutureWarning: The default value of numeric_only in DataFrameGroupBy.mean is deprecated. In a future version, numeric_only will default to False. Either specify numeric_only or select only columns which should be valid for the function.\n",
      "  grouped_data = df.groupby('Age').mean()  # Groups data by 'Age' and calculates the mean of other columns\n"
     ]
    }
   ],
   "source": [
    "#Q5\n",
    "# There are several common functions in Pandas for data manipulation in a DataFrame:\n",
    " \n",
    "# 1. **`head()` and `tail()`:** These functions allow you to quickly inspect the first or last few rows of a DataFrame.\n",
    "   \n",
    "#    Example:\n",
    "print(df.head()) \n",
    "print(df.tail(3))  \n",
    " \n",
    "# 2. **`describe()`:** Provides summary statistics of numerical columns in the DataFrame.\n",
    " \n",
    "#    Example:\n",
    "print(df.describe())  # Summary statistics of numerical columns\n",
    " \n",
    "# 3. **`info()`:** Gives a concise summary of the DataFrame, including the data types of each column and memory usage.\n",
    " \n",
    "#    Example:\n",
    "print(df.info())  # Summary information about the DataFrame\n",
    " \n",
    "# 4. **`drop()`:** Allows you to drop specified rows or columns from the DataFrame.\n",
    " \n",
    "#    Example:\n",
    "df.drop(['City'], axis=1, inplace=True)  # Drops the 'City' column from the DataFrame\n",
    " \n",
    "# 5. **`groupby()`:** Groups the DataFrame by specified columns and allows applying functions to these groups.\n",
    " \n",
    "#    Example:\n",
    "grouped_data = df.groupby('Age').mean()  # Groups data by 'Age' and calculates the mean of other columns\n",
    "\n",
    " \n",
    "# These functions are just a few examples, and there are many more available in Pandas for various data manipulation tasks such as filtering, sorting, merging, reshaping, and more."
   ]
  },
  {
   "cell_type": "code",
   "execution_count": 29,
   "id": "36aa3d09-051a-4bf2-ad1a-2209dbeb858e",
   "metadata": {},
   "outputs": [],
   "source": [
    "# Q6\n",
    "# Mutability:\n",
    "\n",
    "# Series:\n",
    "\n",
    "# Values are mutable: You can modify the contents of individual elements within a Series.\n",
    "# Size is immutable: You cannot change the number of elements in a Series. If you need to adjust the size, you'll need to create a new Series.\n",
    "# DataFrame:\n",
    "\n",
    "# Values are mutable: You can modify the contents of individual elements within a DataFrame.\n",
    "# Size is mutable: You can add or remove rows and columns, effectively changing the dimensions of the DataFrame.\n",
    "# Panel:\n",
    "\n",
    "# Values are mutable: You can modify the contents of individual elements within a Panel.\n",
    "# Size is mutable: You can add or remove DataFrames (slices) from the Panel, changing its dimensions."
   ]
  },
  {
   "cell_type": "code",
   "execution_count": 30,
   "id": "f3edaacb-dcbe-4f36-97f0-5d5131ba8c16",
   "metadata": {},
   "outputs": [
    {
     "name": "stdout",
     "output_type": "stream",
     "text": [
      "    Name  Age      City\n",
      "0   John   25  New York\n",
      "1   Anna   30     Paris\n",
      "2  Peter   35    London\n",
      "3  Linda   40     Tokyo\n"
     ]
    }
   ],
   "source": [
    "#Q7\n",
    "import pandas as pd\n",
    " \n",
    "# Creating multiple Series\n",
    "names = pd.Series(['John', 'Anna', 'Peter', 'Linda'])\n",
    "ages = pd.Series([25, 30, 35, 40])\n",
    "cities = pd.Series(['New York', 'Paris', 'London', 'Tokyo'])\n",
    " \n",
    "# Creating a DataFrame using the Series\n",
    "df = pd.DataFrame({'Name': names, 'Age': ages, 'City': cities})\n",
    " \n",
    "print(df)"
   ]
  },
  {
   "cell_type": "code",
   "execution_count": null,
   "id": "22e4886b-bd53-406f-8aac-612ccb991dcf",
   "metadata": {},
   "outputs": [],
   "source": []
  }
 ],
 "metadata": {
  "kernelspec": {
   "display_name": "Python 3 (ipykernel)",
   "language": "python",
   "name": "python3"
  },
  "language_info": {
   "codemirror_mode": {
    "name": "ipython",
    "version": 3
   },
   "file_extension": ".py",
   "mimetype": "text/x-python",
   "name": "python",
   "nbconvert_exporter": "python",
   "pygments_lexer": "ipython3",
   "version": "3.10.8"
  }
 },
 "nbformat": 4,
 "nbformat_minor": 5
}
