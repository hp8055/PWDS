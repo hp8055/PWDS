{
 "cells": [
  {
   "cell_type": "code",
   "execution_count": 5,
   "id": "6e47d251-7a74-4498-afb7-8bd7519ef51f",
   "metadata": {},
   "outputs": [],
   "source": [
    "#Q1\n",
    "# An exception is an event, which occurs during the execution of a program that disrupts the normal flow of the program's instructions.\n",
    "# In general, when a Python script encounters a situation that it cannot cope with, it raises an exception.\n",
    "\n",
    "# Difference in syntax error and exception :\n",
    "# Errors cannot be handled, while Python exceptions can be handled at the run time.\n",
    "# An error can be a syntax (parsing) error, while there can be many types of exceptions that could occur during the execution and are not unconditionally inoperable.\n",
    "\n",
    "# Errors and exceptions are both handled by Python. Errors are typically caused by programmer mistakes, such as typos or syntax errors. Exceptions are typically caused by unexpected events, such as a file not being found or a network connection being lost."
   ]
  },
  {
   "cell_type": "code",
   "execution_count": 3,
   "id": "65f8b95c-a4ab-44d0-8e4b-5b535ead21bd",
   "metadata": {},
   "outputs": [
    {
     "ename": "ZeroDivisionError",
     "evalue": "division by zero",
     "output_type": "error",
     "traceback": [
      "\u001b[0;31m---------------------------------------------------------------------------\u001b[0m",
      "\u001b[0;31mZeroDivisionError\u001b[0m                         Traceback (most recent call last)",
      "Cell \u001b[0;32mIn[3], line 5\u001b[0m\n\u001b[1;32m      3\u001b[0m logging\u001b[38;5;241m.\u001b[39minfo(\u001b[38;5;124m'\u001b[39m\u001b[38;5;124mThis is Question 1 , Example 1\u001b[39m\u001b[38;5;124m'\u001b[39m)\n\u001b[1;32m      4\u001b[0m a \u001b[38;5;241m=\u001b[39m \u001b[38;5;241m23\u001b[39m\n\u001b[0;32m----> 5\u001b[0m \u001b[43ma\u001b[49m\u001b[38;5;241;43m/\u001b[39;49m\u001b[38;5;241;43m0\u001b[39;49m \u001b[38;5;66;03m#Division by zero is an exception\u001b[39;00m\n",
      "\u001b[0;31mZeroDivisionError\u001b[0m: division by zero"
     ]
    }
   ],
   "source": [
    "# Example of exception\n",
    "import logging\n",
    "logging.info('This is Question 1 , Example 1')\n",
    "a = 23\n",
    "a/0 #Division by zero is an exception\n"
   ]
  },
  {
   "cell_type": "code",
   "execution_count": 4,
   "id": "c5016adc-756c-4859-9111-51bc6a39ba7e",
   "metadata": {},
   "outputs": [
    {
     "ename": "SyntaxError",
     "evalue": "invalid syntax. Perhaps you forgot a comma? (1664719280.py, line 4)",
     "output_type": "error",
     "traceback": [
      "\u001b[0;36m  Cell \u001b[0;32mIn[4], line 4\u001b[0;36m\u001b[0m\n\u001b[0;31m    print(a b) #incorrect syntax here will raise syntax error\u001b[0m\n\u001b[0m          ^\u001b[0m\n\u001b[0;31mSyntaxError\u001b[0m\u001b[0;31m:\u001b[0m invalid syntax. Perhaps you forgot a comma?\n"
     ]
    }
   ],
   "source": [
    "# Example of syntax error\n",
    "a = 2\n",
    "b = 3\n",
    "print(a b) #incorrect syntax here will raise syntax error"
   ]
  },
  {
   "cell_type": "code",
   "execution_count": 7,
   "id": "4d95d221-17a4-4ebe-9851-83036913a88d",
   "metadata": {},
   "outputs": [],
   "source": [
    "# Q3\n",
    "# If Exception is not handled the code below the exception will not execute at all. It will stop the program at exception."
   ]
  },
  {
   "cell_type": "code",
   "execution_count": 8,
   "id": "5079fc30-95b4-4d21-baa0-b8d434fcb759",
   "metadata": {},
   "outputs": [
    {
     "ename": "ZeroDivisionError",
     "evalue": "division by zero",
     "output_type": "error",
     "traceback": [
      "\u001b[0;31m---------------------------------------------------------------------------\u001b[0m",
      "\u001b[0;31mZeroDivisionError\u001b[0m                         Traceback (most recent call last)",
      "Cell \u001b[0;32mIn[8], line 2\u001b[0m\n\u001b[1;32m      1\u001b[0m a \u001b[38;5;241m=\u001b[39m \u001b[38;5;241m56\u001b[39m\n\u001b[0;32m----> 2\u001b[0m \u001b[38;5;28mprint\u001b[39m(\u001b[43ma\u001b[49m\u001b[38;5;241;43m/\u001b[39;49m\u001b[38;5;241;43m0\u001b[39;49m) \u001b[38;5;66;03m# This will cause Zero Division Error\u001b[39;00m\n\u001b[1;32m      3\u001b[0m \u001b[38;5;28mprint\u001b[39m(a\u001b[38;5;241m+\u001b[39m\u001b[38;5;241m23\u001b[39m) \u001b[38;5;66;03m# None of these code and below lines will not excute because exception was not handled\u001b[39;00m\n\u001b[1;32m      4\u001b[0m \u001b[38;5;28mprint\u001b[39m(\u001b[38;5;124m'\u001b[39m\u001b[38;5;124mThis will not execute\u001b[39m\u001b[38;5;124m'\u001b[39m) \u001b[38;5;66;03m# Will not execute because exception not handled\u001b[39;00m\n",
      "\u001b[0;31mZeroDivisionError\u001b[0m: division by zero"
     ]
    }
   ],
   "source": [
    "a = 56\n",
    "print(a/0) # This will cause Zero Division Error\n",
    "print(a+23) # None of these code and below lines will not excute because exception was not handled\n",
    "print('This will not execute') # Will not execute because exception not handled"
   ]
  },
  {
   "cell_type": "code",
   "execution_count": 12,
   "id": "6ded4e3f-c404-4649-ae03-f632fcff86bb",
   "metadata": {},
   "outputs": [],
   "source": [
    "#Q3\n",
    "# try , except , else and finally are some of the statements which are used to handle exceptions.\n",
    "logging.basicConfig(filename='TryExcept.log',level=logging.DEBUG,format= '%(asctime)s - %(name)s - %(levelname)s - %(message)s')"
   ]
  },
  {
   "cell_type": "code",
   "execution_count": 13,
   "id": "6ab5262c-f5f4-473e-af07-12764a846091",
   "metadata": {},
   "outputs": [
    {
     "name": "stderr",
     "output_type": "stream",
     "text": [
      "ERROR:root:Except block from Question 3 executed\n",
      "Traceback (most recent call last):\n",
      "  File \"/tmp/ipykernel_96/3002810753.py\", line 5, in <module>\n",
      "    with open('sample.txt','r') as f:\n",
      "  File \"/opt/conda/lib/python3.10/site-packages/IPython/core/interactiveshell.py\", line 282, in _modified_open\n",
      "    return io_open(file, *args, **kwargs)\n",
      "FileNotFoundError: [Errno 2] No such file or directory: 'sample.txt'\n"
     ]
    },
    {
     "name": "stdout",
     "output_type": "stream",
     "text": [
      "There is exception in this code: [Errno 2] No such file or directory: 'sample.txt'\n",
      "a=23, b= 45, a*b =1035\n"
     ]
    }
   ],
   "source": [
    "# I'm Creating a file example reading exception handling\n",
    "logging.info('This is Start of Question 3')\n",
    "try:\n",
    "    # This code will be tried for execution\n",
    "    with open('sample.txt','r') as f:\n",
    "        print(f.read())\n",
    "        logging.info('Try block from question 3 executed')\n",
    "\n",
    "except Exception as e:\n",
    "    # Exception will be caught here and message will display\n",
    "    print('There is exception in this code:',e)\n",
    "    logging.exception('Except block from Question 3 executed')\n",
    "finally:\n",
    "    # This code will execute regardless wether try block executes or not\n",
    "    a = 23\n",
    "    b = 45\n",
    "    print(f'a={a}, b= {b}, a*b ={a*b}')\n",
    "    logging.info('Finally Block from Question 3 executed')"
   ]
  },
  {
   "cell_type": "code",
   "execution_count": 15,
   "id": "b3bb126d-f538-40b6-a95f-6ab21da8d669",
   "metadata": {},
   "outputs": [],
   "source": [
    "#Q4\n",
    "# creating a custom function for division with Try, Except ,Else blocks\n",
    "# Try and else : Try block will execute if no exceptions. If no exceptions only then else block is executed. If exception occured except block will get executed\n",
    "def divide(a,b):\n",
    "    \"\"\"\n",
    "    This is division function with excption handling\n",
    "    \"\"\"\n",
    "    logging.info('This is Start of function divide')\n",
    "    try:\n",
    "        # Try block will execute if there is no exception\n",
    "        result = a/b\n",
    "        print('Try Block Executed.')\n",
    "        logging.info('Try Block executed')\n",
    "    except Exception as e:\n",
    "        # Except block will execute if exception found\n",
    "        print('Exception occured : ',e)\n",
    "        logging.exception('Except block executed')\n",
    "    else:\n",
    "        # This block will execute only if try block executed\n",
    "        print('Else Block Executed')\n",
    "        logging.info('Else Block executed')\n",
    "        return result"
   ]
  },
  {
   "cell_type": "code",
   "execution_count": 16,
   "id": "08382aff-6cd0-4eb6-8bd0-ca84934a7c5c",
   "metadata": {},
   "outputs": [
    {
     "name": "stdout",
     "output_type": "stream",
     "text": [
      "Try Block Executed.\n",
      "Else Block Executed\n"
     ]
    },
    {
     "data": {
      "text/plain": [
       "1.25"
      ]
     },
     "execution_count": 16,
     "metadata": {},
     "output_type": "execute_result"
    }
   ],
   "source": [
    "divide(5,4)"
   ]
  },
  {
   "cell_type": "code",
   "execution_count": 17,
   "id": "9b6c9125-3e66-43d8-bf51-8afea1f89dc8",
   "metadata": {},
   "outputs": [
    {
     "name": "stdout",
     "output_type": "stream",
     "text": [
      "Try Block Executed.\n",
      "Else Block Executed\n"
     ]
    },
    {
     "data": {
      "text/plain": [
       "0.0"
      ]
     },
     "execution_count": 17,
     "metadata": {},
     "output_type": "execute_result"
    }
   ],
   "source": [
    "divide(0,10)"
   ]
  },
  {
   "cell_type": "code",
   "execution_count": 18,
   "id": "0acee666-2668-4e34-80d6-23d7aeec9b52",
   "metadata": {},
   "outputs": [
    {
     "name": "stderr",
     "output_type": "stream",
     "text": [
      "ERROR:root:Except block executed\n",
      "Traceback (most recent call last):\n",
      "  File \"/tmp/ipykernel_96/3675043747.py\", line 11, in divide\n",
      "    result = a/b\n",
      "ZeroDivisionError: division by zero\n"
     ]
    },
    {
     "name": "stdout",
     "output_type": "stream",
     "text": [
      "Exception occured :  division by zero\n"
     ]
    }
   ],
   "source": [
    "divide(10,0)"
   ]
  },
  {
   "cell_type": "code",
   "execution_count": 19,
   "id": "c806c17b-d7cd-47c3-aca6-95ec95efb291",
   "metadata": {},
   "outputs": [],
   "source": [
    "# Finally : This code block will always execute .Regardless wether try, except, else blocks are executed"
   ]
  },
  {
   "cell_type": "code",
   "execution_count": 20,
   "id": "72826dc8-1b16-4247-885e-5089479fced2",
   "metadata": {},
   "outputs": [
    {
     "name": "stderr",
     "output_type": "stream",
     "text": [
      "ERROR:root:Except block executed\n",
      "Traceback (most recent call last):\n",
      "  File \"/tmp/ipykernel_96/2074260654.py\", line 6, in <module>\n",
      "    c = a + b\n",
      "TypeError: unsupported operand type(s) for +: 'int' and 'str'\n"
     ]
    },
    {
     "name": "stdout",
     "output_type": "stream",
     "text": [
      "Exception Occured : unsupported operand type(s) for +: 'int' and 'str'\n",
      "This Finally Block will always be executed\n"
     ]
    }
   ],
   "source": [
    "logging.info('Explaining Finally block code of Question 3')\n",
    "try:\n",
    "    # Try block executes if no exception occurs\n",
    "    a = 1\n",
    "    b = '23'\n",
    "    c = a + b\n",
    "    print(c)\n",
    "    logging.info('Try Block executed')\n",
    "except Exception as e:\n",
    "    # Except block will execute if exception occurs\n",
    "    print('Exception Occured :',e)\n",
    "    logging.exception('Except block executed')\n",
    "finally:\n",
    "    # Finally Block will always execute regardless of exception found or not\n",
    "    print('This Finally Block will always be executed')\n",
    "    logging.info('Finally Block executed')"
   ]
  },
  {
   "cell_type": "code",
   "execution_count": 21,
   "id": "5201a7ae-fe8d-4d80-8a88-511df2120395",
   "metadata": {},
   "outputs": [],
   "source": [
    "# raise : Python raise Keyword is used to raise exceptions or errors. The raise keyword raises an error and stops the control flow of the program. It is used to bring up the current exception in an exception handler so that it can be handled further up the call stack."
   ]
  },
  {
   "cell_type": "code",
   "execution_count": 22,
   "id": "96f15eab-6641-4c29-aa15-ff4b8c869340",
   "metadata": {},
   "outputs": [],
   "source": [
    "def mob_num():\n",
    "    logging.info('This is start of mob_num function from Question 3 Raise explaination')\n",
    "    mob = input('Enter Mobile number : ')\n",
    "    print('The moblie number entered is',mob)\n",
    "    # Check if length of mobile number is 10 digits and length is 10 digits\n",
    "    if len(mob)!=10 or mob.isnumeric()!= True:\n",
    "        logging.exception('Exception occured invalid mobile number')\n",
    "        raise Exception('Invalid Mobile number is entered')"
   ]
  },
  {
   "cell_type": "code",
   "execution_count": 23,
   "id": "d92c5e2f-efe5-4217-a6ef-662def2da068",
   "metadata": {},
   "outputs": [
    {
     "name": "stdin",
     "output_type": "stream",
     "text": [
      "Enter Mobile number :  123456\n"
     ]
    },
    {
     "name": "stderr",
     "output_type": "stream",
     "text": [
      "ERROR:root:Exception occured invalid mobile number\n",
      "NoneType: None\n"
     ]
    },
    {
     "name": "stdout",
     "output_type": "stream",
     "text": [
      "The moblie number entered is 123456\n"
     ]
    },
    {
     "ename": "Exception",
     "evalue": "Invalid Mobile number is entered",
     "output_type": "error",
     "traceback": [
      "\u001b[0;31m---------------------------------------------------------------------------\u001b[0m",
      "\u001b[0;31mException\u001b[0m                                 Traceback (most recent call last)",
      "Cell \u001b[0;32mIn[23], line 1\u001b[0m\n\u001b[0;32m----> 1\u001b[0m \u001b[43mmob_num\u001b[49m\u001b[43m(\u001b[49m\u001b[43m)\u001b[49m\n",
      "Cell \u001b[0;32mIn[22], line 8\u001b[0m, in \u001b[0;36mmob_num\u001b[0;34m()\u001b[0m\n\u001b[1;32m      6\u001b[0m \u001b[38;5;28;01mif\u001b[39;00m \u001b[38;5;28mlen\u001b[39m(mob)\u001b[38;5;241m!=\u001b[39m\u001b[38;5;241m10\u001b[39m \u001b[38;5;129;01mor\u001b[39;00m mob\u001b[38;5;241m.\u001b[39misnumeric()\u001b[38;5;241m!=\u001b[39m \u001b[38;5;28;01mTrue\u001b[39;00m:\n\u001b[1;32m      7\u001b[0m     logging\u001b[38;5;241m.\u001b[39mexception(\u001b[38;5;124m'\u001b[39m\u001b[38;5;124mException occured invalid mobile number\u001b[39m\u001b[38;5;124m'\u001b[39m)\n\u001b[0;32m----> 8\u001b[0m     \u001b[38;5;28;01mraise\u001b[39;00m \u001b[38;5;167;01mException\u001b[39;00m(\u001b[38;5;124m'\u001b[39m\u001b[38;5;124mInvalid Mobile number is entered\u001b[39m\u001b[38;5;124m'\u001b[39m)\n",
      "\u001b[0;31mException\u001b[0m: Invalid Mobile number is entered"
     ]
    }
   ],
   "source": [
    "mob_num()"
   ]
  },
  {
   "cell_type": "code",
   "execution_count": 24,
   "id": "e0c4d48f-e4b1-4bff-ab87-4dd920823d8e",
   "metadata": {},
   "outputs": [],
   "source": [
    "#Q5\n",
    "# Built-in exceptions offer information about Python-related problems, and custom exceptions will add information about project-related problems. Example percentage value should always be between 0 to 100"
   ]
  },
  {
   "cell_type": "code",
   "execution_count": 25,
   "id": "4e4eb811-9958-4fe8-88ac-3fa43d2106ec",
   "metadata": {},
   "outputs": [],
   "source": [
    "# Python detects all the critical errors that occur during Compile-time and Runtime. It stops the program's execution if the error occurs and raises an exception. Some commonly raised Exceptions are ArithmeticError, AttributeError, ImportError, IOError, FileNotFoundError, etc.\n",
    "\n",
    "# Sometimes we must enforce constraints on the values that specific program variables can take or save the program from running into an undesired state. In such situations, Python allows programmers to create User-defined Exceptions. To create a User-defined Exception, we need to create a class directly or indirectly derived from the built-in Exception class."
   ]
  },
  {
   "cell_type": "code",
   "execution_count": 26,
   "id": "e861770a-aaa1-4086-86a4-f4a793623e50",
   "metadata": {},
   "outputs": [],
   "source": [
    "# Creating a custom class for custom exception\n",
    "class pcterror(Exception):\n",
    "    def __init__(self,msg):\n",
    "        self.msg = msg"
   ]
  },
  {
   "cell_type": "code",
   "execution_count": 28,
   "id": "087424f6-308d-48b5-8ee7-b58ab4a75a8f",
   "metadata": {},
   "outputs": [
    {
     "name": "stderr",
     "output_type": "stream",
     "text": [
      "ERROR:root:Percentage not in range\n"
     ]
    },
    {
     "ename": "pcterror",
     "evalue": "Invalid percentage entered",
     "output_type": "error",
     "traceback": [
      "\u001b[0;31m---------------------------------------------------------------------------\u001b[0m",
      "\u001b[0;31mpcterror\u001b[0m                                  Traceback (most recent call last)",
      "Cell \u001b[0;32mIn[28], line 8\u001b[0m\n\u001b[1;32m      6\u001b[0m \u001b[38;5;28;01mif\u001b[39;00m pct\u001b[38;5;241m<\u001b[39m\u001b[38;5;241m0\u001b[39m \u001b[38;5;129;01mor\u001b[39;00m pct\u001b[38;5;241m>\u001b[39m\u001b[38;5;241m100\u001b[39m:\n\u001b[1;32m      7\u001b[0m     logging\u001b[38;5;241m.\u001b[39merror(\u001b[38;5;124m'\u001b[39m\u001b[38;5;124mPercentage not in range\u001b[39m\u001b[38;5;124m'\u001b[39m)\n\u001b[0;32m----> 8\u001b[0m     \u001b[38;5;28;01mraise\u001b[39;00m pcterror(\u001b[38;5;124m'\u001b[39m\u001b[38;5;124mInvalid percentage entered\u001b[39m\u001b[38;5;124m'\u001b[39m) \n\u001b[1;32m      9\u001b[0m \u001b[38;5;28;01melse\u001b[39;00m:\n\u001b[1;32m     10\u001b[0m     \u001b[38;5;28mprint\u001b[39m(\u001b[38;5;124m'\u001b[39m\u001b[38;5;124mPercentage marks of student is : \u001b[39m\u001b[38;5;124m'\u001b[39m,pct)\n",
      "\u001b[0;31mpcterror\u001b[0m: Invalid percentage entered"
     ]
    }
   ],
   "source": [
    "# Check if percentage marks of entered is valid or not\n",
    "# Case 1 : Percentage between 0 and 100\n",
    "logging.info('Question 5 , case 1 started')\n",
    "pct = 850\n",
    "# Below is custom exception which checks if percentage is in between 0 and 100\n",
    "if pct<0 or pct>100:\n",
    "    logging.error('Percentage not in range')\n",
    "    raise pcterror('Invalid percentage entered') \n",
    "else:\n",
    "    print('Percentage marks of student is : ',pct)\n",
    "    logging.info('No Error occured')"
   ]
  },
  {
   "cell_type": "code",
   "execution_count": 29,
   "id": "a66ce3aa-20e6-452b-8247-ba30e79ab0c4",
   "metadata": {},
   "outputs": [
    {
     "name": "stdout",
     "output_type": "stream",
     "text": [
      "Error: Age cannot be negative.\n"
     ]
    }
   ],
   "source": [
    "#Q6\n",
    "\n",
    "\n",
    "class InvalidAgeException(Exception):\n",
    "  \"\"\"\n",
    "  Custom exception class for invalid age input.\n",
    "  \"\"\"\n",
    "  def __init__(self, message):\n",
    "        self.message = message\n",
    "    \n",
    "\n",
    "# Example usage\n",
    "def check_age(age):\n",
    "  if age < 0:\n",
    "    raise InvalidAgeException(\"Age cannot be negative.\")\n",
    "  else:\n",
    "    print(f\"Your age is {age}.\")\n",
    "\n",
    "try:\n",
    "  check_age(-10)\n",
    "except InvalidAgeException as e:\n",
    "  print(f\"Error: {e}\")\n"
   ]
  },
  {
   "cell_type": "code",
   "execution_count": null,
   "id": "61100951-df36-4835-a9c2-6beab58155ed",
   "metadata": {},
   "outputs": [],
   "source": []
  }
 ],
 "metadata": {
  "kernelspec": {
   "display_name": "Python 3 (ipykernel)",
   "language": "python",
   "name": "python3"
  },
  "language_info": {
   "codemirror_mode": {
    "name": "ipython",
    "version": 3
   },
   "file_extension": ".py",
   "mimetype": "text/x-python",
   "name": "python",
   "nbconvert_exporter": "python",
   "pygments_lexer": "ipython3",
   "version": "3.10.8"
  }
 },
 "nbformat": 4,
 "nbformat_minor": 5
}
