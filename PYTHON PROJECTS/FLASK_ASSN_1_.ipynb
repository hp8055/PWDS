{
  "nbformat": 4,
  "nbformat_minor": 0,
  "metadata": {
    "colab": {
      "provenance": []
    },
    "kernelspec": {
      "name": "python3",
      "display_name": "Python 3"
    },
    "language_info": {
      "name": "python"
    }
  },
  "cells": [
    {
      "cell_type": "code",
      "execution_count": 1,
      "metadata": {
        "id": "QS4hFxjEhgMq"
      },
      "outputs": [],
      "source": [
        "# Q1\n",
        "# Definition: Flask is a lightweight web application framework for Python. It is designed to be simple and easy to use, providing the essentials for building web applications without imposing too many restrictions.\n",
        "# Advantages of Flask Framework:\n",
        "\n",
        "# Lightweight and Simple:\n",
        "\n",
        "# Flask is minimalistic and follows a simple design philosophy, making it easy for developers to understand and get started with.\n",
        "# Flexibility:\n",
        "\n",
        "# Flask provides the essential tools for web development but allows developers to choose additional libraries and components based on their needs. It's not overly opinionated.\n",
        "# Modular and Extensible:\n",
        "\n",
        "# Flask follows a modular design, allowing developers to add or remove components as needed. This modular structure makes it extensible for various requirements.\n",
        "# Built-in Development Server:\n",
        "\n",
        "# Flask comes with a built-in development server, making it easy to run and test applications during development without the need for additional server configurations.\n",
        "# Jinja2 Templating:\n",
        "\n",
        "# Flask uses the Jinja2 templating engine, enabling developers to build dynamic and flexible web pages by embedding Python-like expressions in HTML templates.\n",
        "# RESTful Request Handling:\n",
        "\n",
        "# Flask supports RESTful request handling, making it well-suited for building APIs and web services.\n",
        "# Widely Adopted:\n",
        "\n",
        "# Flask has a large and active community, resulting in a wealth of resources, tutorials, and extensions available for developers.\n",
        "# Easy to Learn:\n",
        "\n",
        "# Flask's simplicity and minimalism make it accessible for beginners, allowing them to quickly grasp the fundamentals of web development.\n",
        "# In short, Flask is a lightweight and flexible web framework for Python, known for its simplicity, modularity, and ease of use. It provides the essentials for building web applications and is well-suited for both beginners and experienced developers."
      ]
    },
    {
      "cell_type": "code",
      "source": [
        "# Q2\n",
        "# from flask import Flask\n",
        "# from flask import request\n",
        "\n",
        "# app = Flask(__name__)\n",
        "\n",
        "# @app.route(\"/\")\n",
        "# def hello_world():\n",
        "#     return \"<h1>Hello, World!</h1>\"\n",
        "# LINK FOR OUTPUT\n",
        "#https://drive.google.com/file/d/1QSfkHO0Z7I3H79G4akxa054_OqfMV1l_/view?usp=sharing"
      ],
      "metadata": {
        "id": "Q4xXBkTjh_O4"
      },
      "execution_count": 2,
      "outputs": []
    },
    {
      "cell_type": "code",
      "source": [
        "# Q3\n",
        "# App Routing in Flask:\n",
        "\n",
        "# Definition: App routing in Flask refers to the process of mapping URLs (Uniform Resource Locators) to specific functions or views in a Flask web application. It allows you to define how different parts of your application respond to different URL patterns.\n",
        "# Why do we use App Routes in Flask:\n",
        "\n",
        "# URL Mapping:\n",
        "\n",
        "# App routes define the mapping between specific URLs and the corresponding views or functions in your Flask application. This helps in organizing the structure of your web application.\n",
        "# Request Handling:\n",
        "\n",
        "# App routes specify the functions that handle incoming HTTP requests for different URL patterns. Each route corresponds to a specific endpoint, determining how the server should respond to a request.\n",
        "# Modular Code:\n",
        "\n",
        "# By using app routes, you can organize your code into smaller, modular functions, each responsible for handling a specific part of your application. This promotes a clean and maintainable code structure.\n",
        "# Code Separation:\n",
        "\n",
        "# Routes allow you to separate concerns in your code. For example, you might have different routes handling user authentication, data retrieval, or rendering HTML templates. This separation improves code readability and organization.\n",
        "# Dynamic URL Patterns:\n",
        "\n",
        "# Flask app routes support dynamic URL patterns by allowing the definition of variables within the URL. This feature is useful for creating dynamic and parameterized routes.\n",
        "# RESTful APIs:\n",
        "\n",
        "# For building RESTful APIs, app routes play a crucial role in defining endpoints for different HTTP methods (GET, POST, PUT, DELETE). Each route corresponds to a specific API endpoint, making the API design more intuitive.\n",
        "# Easy Maintenance:\n",
        "\n",
        "# App routes make it easier to locate and modify specific functionalities in your application. If you need to update the behavior of a particular URL, you can quickly find and modify the corresponding route function.\n",
        "# URL Generation:\n",
        "\n",
        "# Flask's URL generation capabilities are based on app routes. The url_for function in Flask allows you to generate URLs for specific routes, providing a dynamic and reliable way to link to different parts of your application.\n",
        "# In summary, app routing in Flask is a fundamental aspect of defining how your web application responds to different URLs. It promotes code organization, modularity, and the separation of concerns, making your Flask application more maintainable and scalable."
      ],
      "metadata": {
        "id": "YqXbZfkhzkiZ"
      },
      "execution_count": 3,
      "outputs": []
    },
    {
      "cell_type": "code",
      "source": [
        "# Q4\n",
        "# @app.route(\"/welcome\")\n",
        "# def welcome():\n",
        "#     return \"<h1>Welcome to ABC Corporation</h1>\"\n",
        "\n",
        "# @app.route(\"/\")\n",
        "# def company_info():\n",
        "#     return \"\"\"\n",
        "#     <h1>Company Information</h1>\n",
        "#     <p><strong>Company Name:</strong> ABC Corporation</p>\n",
        "#     <p><strong>Location:</strong> India</p>\n",
        "#     <p><strong>Contact Detail:</strong> 999-999-9999</p>\n",
        "#     \"\"\"\n",
        "# LINKS FOR SS\n",
        "#https://drive.google.com/file/d/1DCx1FJw_wicGcbONEq7odGJOniNVNc9Y/view?usp=sharing\n",
        "#https://drive.google.com/file/d/1S1S24b1_I_oD-i1U1xX2MDgd1bRI9mq4/view?usp=sharing"
      ],
      "metadata": {
        "id": "9oibPAvfzlvN"
      },
      "execution_count": 4,
      "outputs": []
    },
    {
      "cell_type": "code",
      "source": [
        "# Q5\n",
        "\n",
        "# In Flask, the url_for() function is used for URL building. It generates a URL for the specified endpoint and any provided arguments. This function is particularly useful because it allows you to refer to routes by their endpoint name, rather than hardcoding URLs.\n",
        "\n",
        "# Here's a simple example demonstrating the use of the url_for() function in a Flask application:\n",
        "# from flask import Flask, url_for\n",
        "\n",
        "# app = Flask(__name__)\n",
        "\n",
        "# # Define a route with an endpoint name\n",
        "# @app.route('/home')\n",
        "# def home():\n",
        "#     return 'Welcome to the Home Page!'\n",
        "\n",
        "# # Define another route with an endpoint name\n",
        "# @app.route('/about')\n",
        "# def about():\n",
        "#     return 'This is the About Page.'\n",
        "\n",
        "# # Main route that uses url_for to generate URLs for the 'home' and 'about' endpoints\n",
        "# @app.route('/')\n",
        "# def main():\n",
        "#     # Generate URLs for the 'home' and 'about' endpoints\n",
        "#     home_url = url_for('home')\n",
        "#     about_url = url_for('about')\n",
        "\n",
        "#     # Display the generated URLs\n",
        "#     return f'Visit the <a href=\"{home_url}\">Home Page</a> or the <a href=\"{about_url}\">About Page</a>.'\n",
        "\n",
        "# if __name__ == '__main__':\n",
        "#     app.run(debug=True)\n"
      ],
      "metadata": {
        "id": "GOKuX6OU8qpe"
      },
      "execution_count": 5,
      "outputs": []
    },
    {
      "cell_type": "code",
      "source": [],
      "metadata": {
        "id": "JOleu6549GWb"
      },
      "execution_count": null,
      "outputs": []
    }
  ]
}