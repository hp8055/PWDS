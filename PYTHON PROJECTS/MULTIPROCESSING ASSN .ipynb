{
 "cells": [
  {
   "cell_type": "code",
   "execution_count": 1,
   "id": "1d8066f1-9470-4948-a3e9-744696d4358c",
   "metadata": {},
   "outputs": [],
   "source": [
    "# Q1\n",
    "# Multiprocessing in Python refers to the ability of a program to utilize multiple CPU cores or processors to execute tasks concurrently. It involves running multiple processes simultaneously, each with its own memory space, allowing them to perform computations independently of each other.\n",
    "\n",
    "# In simple words, multiprocessing allows Python programs to divide tasks into smaller chunks and execute them simultaneously across multiple CPU cores. This can lead to significant performance improvements, as it enables parallel processing and efficient utilization of available computational resources.\n",
    "\n",
    "# Multiprocessing is useful for tasks that can be parallelized, such as data processing, scientific computing, and intensive computations. By leveraging multiple CPU cores, multiprocessing allows programs to perform tasks faster and more efficiently, ultimately reducing the overall execution time.\n",
    "\n",
    "# In summary, multiprocessing in Python enables concurrent execution of tasks across multiple CPU cores, leading to improved performance and faster execution of computationally intensive tasks. It is particularly useful for tasks that can benefit from parallel processing and efficient utilization of available computational resources.v"
   ]
  },
  {
   "cell_type": "code",
   "execution_count": 2,
   "id": "28e3c526-e855-4495-a433-459df5a149e8",
   "metadata": {},
   "outputs": [],
   "source": [
    "# Q2\n",
    "# Multiprocessing: In multiprocessing, multiple processes are created, each with its own memory space and resources. Processes run independently of each other and do not share memory. Communication between processes typically involves inter-process communication (IPC) mechanisms such as pipes, queues, or shared memory.\n",
    "# Multithreading: In multithreading, multiple threads of execution run within the same process. Threads share the same memory space and resources of the process that created them. Threads can communicate and synchronize with each other more easily, as they share the same memory."
   ]
  },
  {
   "cell_type": "code",
   "execution_count": 3,
   "id": "7a33c72f-915f-41c2-951c-310d014cee7e",
   "metadata": {},
   "outputs": [
    {
     "name": "stdout",
     "output_type": "stream",
     "text": [
      "this is my main prog\n",
      "this is my multiprocessing prog\n"
     ]
    }
   ],
   "source": [
    "# Q3\n",
    "import multiprocessing\n",
    "def test():\n",
    "    print(\"this is my multiprocessing prog\")\n",
    "\n",
    "if __name__ == '__main__':\n",
    "    m = multiprocessing.Process(target=test)\n",
    "    print(\"this is my main prog\")\n",
    "    m.start()\n",
    "    m.join()\n"
   ]
  },
  {
   "cell_type": "code",
   "execution_count": 4,
   "id": "7ea5f6f5-c436-4605-b940-8169114bf6d1",
   "metadata": {},
   "outputs": [],
   "source": [
    "# Q4\n",
    "# A multiprocessing pool in Python refers to a group of worker processes that are managed together to execute tasks concurrently.\n",
    "# The multiprocessing.Pool class in Python's multiprocessing module provides a convenient way to create and manage a pool of worker processes."
   ]
  },
  {
   "cell_type": "code",
   "execution_count": 6,
   "id": "7e2c8bc0-2db4-4e2c-8fba-4afe344e0362",
   "metadata": {},
   "outputs": [],
   "source": [
    "# Multiprocessing pools are used for parallelizing tasks that can be executed independently and concurrently. They are particularly useful for tasks such as data processing, parallel computation, or any task that can benefit from parallel execution.\n",
    "# By utilizing multiple CPU cores, multiprocessing pools can significantly reduce the overall execution time of tasks that can be parallelized."
   ]
  },
  {
   "cell_type": "code",
   "execution_count": 7,
   "id": "f6aad3eb-13dd-4187-96c3-10d01efbba6b",
   "metadata": {},
   "outputs": [
    {
     "name": "stdout",
     "output_type": "stream",
     "text": [
      "[1, 4, 9, 16, 25, 36, 49, 64, 81]\n"
     ]
    }
   ],
   "source": [
    "# Q5\n",
    "def square(n):\n",
    "    return n**2\n",
    "\n",
    "if __name__ == '__main__':\n",
    "    with multiprocessing.Pool(processes=4) as pool :\n",
    "        out = pool.map(square , [1,2,3,4,5,6,7,8,9])\n",
    "        print(out)\n",
    "\n"
   ]
  },
  {
   "cell_type": "code",
   "execution_count": 13,
   "id": "50da4e71-3c28-4609-b780-51578e945c69",
   "metadata": {},
   "outputs": [
    {
     "name": "stdout",
     "output_type": "stream",
     "text": [
      "Process Process-14: 1\n",
      "Process Process-15: 2\n",
      "Process Process-16: 3\n",
      "Process Process-17: 4\n"
     ]
    }
   ],
   "source": [
    "# Q6\n",
    "import multiprocessing\n",
    "\n",
    "def print_number(number):\n",
    "    print(f\"Process {multiprocessing.current_process().name}: {number}\")\n",
    "\n",
    "if __name__ == \"__main__\":\n",
    "    processes = []\n",
    "    \n",
    "    for i in range(1, 5):\n",
    "        process = multiprocessing.Process(target=print_number, args=(i,))\n",
    "        processes.append(process)\n",
    "        process.start()\n",
    "    \n",
    "    for process in processes:\n",
    "        process.join()\n"
   ]
  },
  {
   "cell_type": "code",
   "execution_count": null,
   "id": "cd217c48-bdbb-48f9-a44f-c21848657cb5",
   "metadata": {},
   "outputs": [],
   "source": []
  }
 ],
 "metadata": {
  "kernelspec": {
   "display_name": "Python 3 (ipykernel)",
   "language": "python",
   "name": "python3"
  },
  "language_info": {
   "codemirror_mode": {
    "name": "ipython",
    "version": 3
   },
   "file_extension": ".py",
   "mimetype": "text/x-python",
   "name": "python",
   "nbconvert_exporter": "python",
   "pygments_lexer": "ipython3",
   "version": "3.10.8"
  }
 },
 "nbformat": 4,
 "nbformat_minor": 5
}
