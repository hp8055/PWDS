{
  "nbformat": 4,
  "nbformat_minor": 0,
  "metadata": {
    "colab": {
      "provenance": []
    },
    "kernelspec": {
      "name": "python3",
      "display_name": "Python 3"
    },
    "language_info": {
      "name": "python"
    }
  },
  "cells": [
    {
      "cell_type": "code",
      "execution_count": null,
      "metadata": {
        "id": "TlVyO1yXaFdT"
      },
      "outputs": [],
      "source": [
        "#Q1\n",
        "#A database is an organized collection of structured information, or data, typically stored electronically in a computer system.\n",
        "\n",
        "#SQL databases:\n",
        "\n",
        "#Like neatly labelled folders with rows and columns, making it easy to find specific things (think: phonebook).\n",
        "#Good for complex queries and ensuring data accuracy, but less flexible for changing data formats.\n",
        "#Example: your bank's account information.\n",
        "\n",
        "#NoSQL databases:\n",
        "\n",
        "#More like dumping everything in boxes, each containing related items (think: shoebox of family photos).\n",
        "#Faster for handling large or unstructured data like images or social media posts.\n",
        "#Easier to adapt to changing needs, but may be trickier for complex queries.\n",
        "#Example: storing millions of user profiles on a social media platform.\n",
        "#So, choose SQL for organized, precise data, and NoSQL for speed and flexibility with less structured stuff.\n",
        "\n"
      ]
    },
    {
      "cell_type": "code",
      "source": [
        "# Q2\n",
        "# DDL stands for Data Definition Language, and it is a subset of SQL (Structured Query Language) that is used to define and manage the structure of a relational database.\n",
        "# DDL statements are responsible for defining and managing database objects such as tables, indexes, and constraints.\n",
        "# The main DDL statements include CREATE, DROP, ALTER, and TRUNCATE.\n",
        "\n",
        "# 1. CREATE:\n",
        "\n",
        "# Purpose: To build new structures within a database.\n",
        "# Example: CREATE TABLE Customers (CustomerID int, Name varchar(50), Email varchar(100));\n",
        "# This creates a new table named \"Customers\" with columns for customer ID, name, and email.\n",
        "# 2. DROP:\n",
        "\n",
        "# Purpose: To completely remove database objects.\n",
        "# Example: DROP TABLE Products;\n",
        "# This deletes the entire \"Products\" table and all its data.\n",
        "# 3. ALTER:\n",
        "\n",
        "# Purpose: To modify existing structures without destroying them.\n",
        "# Example: ALTER TABLE Orders ADD OrderDate date;\n",
        "# This adds a new column named \"OrderDate\" to the \"Orders\" table.\n",
        "# 4. TRUNCATE:\n",
        "\n",
        "# Purpose: To quickly erase all data from a table, but keep the table structure itself intact.\n",
        "# Example: TRUNCATE TABLE Logs;\n",
        "# This empties the \"Logs\" table, removing all entries but preserving its columns and settings.\n"
      ],
      "metadata": {
        "id": "nEZItKF0aHL-"
      },
      "execution_count": null,
      "outputs": []
    },
    {
      "cell_type": "code",
      "source": [
        "# Q3\n",
        "# DML stands for Data Manipulation Language, and it is a subset of SQL (Structured Query Language) that is used to manipulate the data stored in a relational database.\n",
        "# DML statements include INSERT, UPDATE, DELETE, and SELECT.\n",
        "# In this context, I'll focus on explaining INSERT, UPDATE, and DELETE.\n",
        "\n",
        "# INSERT:\n",
        "\n",
        "# Purpose: Used to insert new records (rows) into a table.\n",
        "# Example:\n",
        "# INSERT INTO employees (employee_id, first_name, last_name, hire_date)\n",
        "# VALUES (1, 'John', 'Doe', '2023-01-18');\n",
        "\n",
        "# This SQL statement inserts a new record into the \"employees\" table with values for the employee ID, first name, last name, and hire date.\n",
        "\n",
        "\n",
        "# UPDATE:\n",
        "\n",
        "# Purpose: Used to modify existing records in a table.\n",
        "# Example:\n",
        "# UPDATE employees\n",
        "# SET first_name = 'Jane'\n",
        "# WHERE employee_id = 1;\n",
        "\n",
        "# This SQL statement updates the \"first_name\" column in the \"employees\" table for the record with an employee ID of 1, changing the first name from 'John' to 'Jane'.\n",
        "\n",
        "# DELETE:\n",
        "\n",
        "# Purpose: Used to remove records from a table.\n",
        "# Example:\n",
        "# DELETE FROM employees\n",
        "# WHERE employee_id = 1;\n",
        "# This SQL statement deletes the record with an employee ID of 1 from the \"employees\" table. Be cautious when using DELETE, as it permanently removes data from the table.\n",
        "\n"
      ],
      "metadata": {
        "id": "4mdjgk8qd6VQ"
      },
      "execution_count": null,
      "outputs": []
    },
    {
      "cell_type": "code",
      "source": [
        "# #Q4\n",
        "# DQL stands for Data Query Language, and it is a subset of SQL (Structured Query Language) that is used to query and retrieve data from a relational database.\n",
        "# The primary DQL statement is SELECT, which allows you to specify the data you want to retrieve and how to retrieve it.\n",
        "\n",
        "# SELECT:\n",
        "\n",
        "# Purpose: Used to retrieve data from one or more tables.\n",
        "# Example:\n",
        "# SELECT employee_id, first_name, last_name, hire_date\n",
        "# FROM employees\n",
        "# WHERE department_id = 2;\n",
        "# This SQL statement selects specific columns (employee_id, first_name, last_name, hire_date) from the \"employees\" table where the department_id is equal to 2.\n",
        "# The result is a set of rows that satisfy the specified conditions.\n"
      ],
      "metadata": {
        "id": "DXBOWdylfZCt"
      },
      "execution_count": null,
      "outputs": []
    },
    {
      "cell_type": "code",
      "source": [
        "# Q5\n",
        "# **Primary Key:**\n",
        "# **Definition:** A primary key is a unique identifier for a record in a database table.\n",
        "# It ensures that each row in the table is uniquely identified and helps in enforcing entity integrity.\n",
        "# **Example:** In a table of employees, the \"employee_id\" column can be a primary key, guaranteeing each employee has a unique identifier.\n",
        "\n",
        "# **Foreign Key:**\n",
        "# **Definition:** A foreign key is a column or set of columns in a table that refers to the primary key of another table.\n",
        "# It establishes a link between the two tables, creating a relationship.\n",
        "# **Example:** In a table of orders, the \"customer_id\" column might be a foreign key that refers to the \"customer_id\" primary key in a table of customers, connecting each order to a specific customer.\n",
        "\n",
        "# In simple terms, a primary key uniquely identifies a record in its own table, while a foreign key establishes a connection between two tables by referencing the primary key of another table.\n"
      ],
      "metadata": {
        "id": "Wz-CuZYjf_Fu"
      },
      "execution_count": null,
      "outputs": []
    },
    {
      "cell_type": "code",
      "source": [
        "# #Q6\n",
        "# import mysql.connector\n",
        "# mydb = mysql.connector.connect(\n",
        "#   host=\"localhost\",\n",
        "#   user=\"abc\",\n",
        "#   password=\"password\")\n",
        "#\n",
        "# mycursor = mydb.cursor()\n",
        "# mycursor.execute(\"CREATE TABLE if not exists test2.test_table(c1 INT, c2 VARCHAR(50), c3 FLOAT, c4 INT, c5 VARCHAR(50));\")\n",
        "# mydb.close()\n",
        "\n",
        "# cursor() Method:\n",
        "# The cursor() method creates a cursor object, which is used to interact with the MySQL database. It allows you to execute SQL queries and fetch results.\n",
        "\n",
        "# execute() Method:\n",
        "# The execute() method is used to execute a SQL query.\n",
        "# It takes the SQL query string as its first argument and can also take a tuple of values if the query has placeholders (%s) for parameters.\n",
        "# In the example, the create_table_query, insert_data_query, and select_query are SQL queries executed using the execute() method."
      ],
      "metadata": {
        "id": "4vV8uk-MhpZ4"
      },
      "execution_count": null,
      "outputs": []
    },
    {
      "cell_type": "code",
      "source": [
        "# Q7\n",
        "\n",
        "# In a standard SQL query, the order of execution for the clauses is as follows:\n",
        "\n",
        "# FROM: Specifies the table or tables from which the data will be retrieved.\n",
        "\n",
        "# WHERE: Filters the rows based on specified conditions. It is used to narrow down the result set.\n",
        "\n",
        "# GROUP BY: Groups the result set by one or more columns. It is often used with aggregate functions.\n",
        "\n",
        "# HAVING: Filters the result set based on conditions after the GROUP BY clause. It is similar to the WHERE clause but operates on grouped data.\n",
        "\n",
        "# SELECT: Specifies the columns to be included in the result set. It comes after the FROM, WHERE, GROUP BY, and HAVING clauses.\n",
        "\n",
        "# ORDER BY: Sorts the result set based on specified columns and order (ascending or descending).\n",
        "\n",
        "# LIMIT/OFFSET (optional): Limits the number of rows returned or skips a specified number of rows. It is used for pagination.\n",
        "\n",
        "# Example:-\n",
        "# SELECT\n",
        "#     column1, column2, ...\n",
        "# FROM\n",
        "#     table\n",
        "# WHERE\n",
        "#     conditions\n",
        "# GROUP BY\n",
        "#     column1, column2, ...\n",
        "# HAVING\n",
        "#     conditions\n",
        "# ORDER BY\n",
        "#     column1, column2, ...\n",
        "# LIMIT\n",
        "#     n\n",
        "# OFFSET\n",
        "#     m;\n"
      ],
      "metadata": {
        "id": "OGMovAusj5Uk"
      },
      "execution_count": null,
      "outputs": []
    }
  ]
}