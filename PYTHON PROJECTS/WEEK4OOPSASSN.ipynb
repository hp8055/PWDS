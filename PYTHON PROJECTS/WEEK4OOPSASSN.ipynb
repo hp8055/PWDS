{
  "cells": [
    {
      "cell_type": "code",
      "execution_count": 3,
      "metadata": {
        "colab": {
          "base_uri": "https://localhost:8080/"
        },
        "id": "EDCDE82ZmVIo",
        "outputId": "96a93cd4-c6c2-437a-ad18-cf744fe4cab2"
      },
      "outputs": [
        {
          "output_type": "stream",
          "name": "stdout",
          "text": [
            "Vehicle name:Lambo,MaxSpeed:200,AVG:10\n"
          ]
        }
      ],
      "source": [
        "#Q1\n",
        "class vehicle:\n",
        "\n",
        "  def __init__(self,name_of_vehicle,max_speed,average_of_vehicle):\n",
        "    self.name_of_vehicle = name_of_vehicle\n",
        "    self.max_speed = max_speed\n",
        "    self.avg_of_vehicle = average_of_vehicle\n",
        "\n",
        "car = vehicle(\"Lambo\",200,10)\n",
        "print(f\"Vehicle name:{car.name_of_vehicle},MaxSpeed:{car.max_speed},AVG:{car.avg_of_vehicle}\")\n"
      ]
    },
    {
      "cell_type": "code",
      "execution_count": 5,
      "metadata": {
        "colab": {
          "base_uri": "https://localhost:8080/",
          "height": 36
        },
        "id": "2xVqc8qfqg4P",
        "outputId": "18d2ebb5-5c75-42d7-a5de-b4843f4d1326"
      },
      "outputs": [
        {
          "output_type": "execute_result",
          "data": {
            "text/plain": [
              "'Name of vehicle = Lambo and capacity is 4'"
            ],
            "application/vnd.google.colaboratory.intrinsic+json": {
              "type": "string"
            }
          },
          "metadata": {},
          "execution_count": 5
        }
      ],
      "source": [
        "#Q2\n",
        "class car(vehicle):\n",
        "  def seating_capacity(self,capacity):\n",
        "    self.capacity = capacity\n",
        "    return f\"Name of vehicle = {self.name_of_vehicle} and capacity is {capacity}\"\n",
        "\n",
        "car1 = car(\"Lambo\",200,10)\n",
        "car1.seating_capacity(4)"
      ]
    },
    {
      "cell_type": "code",
      "execution_count": null,
      "metadata": {
        "id": "Y7yeVHVUvq4l"
      },
      "outputs": [],
      "source": [
        "#Q3\n",
        "#Multiple inheritance is a feature in object-oriented programming that allows a class to inherit attributes and methods from multiple parent classes.\n",
        "#This creates a more complex inheritance hierarchy where a child class can have multiple ancestors.\n",
        "class class1:\n",
        "  def test_clas1(self):\n",
        "    return \"this is a class1\"\n",
        "\n",
        "class class2:\n",
        "  def test_clas2(self):\n",
        "    return \"This is class2\"\n",
        "\n",
        "class class3(class1,class2):\n",
        "  pass\n",
        "\n",
        "class_obj3 = class3()\n"
      ]
    },
    {
      "cell_type": "code",
      "execution_count": null,
      "metadata": {
        "colab": {
          "base_uri": "https://localhost:8080/",
          "height": 35
        },
        "id": "T5cMBAjemUUf",
        "outputId": "c422e89f-a0eb-4042-dcc8-4b10f518668c"
      },
      "outputs": [
        {
          "data": {
            "application/vnd.google.colaboratory.intrinsic+json": {
              "type": "string"
            },
            "text/plain": [
              "'this is a class1'"
            ]
          },
          "execution_count": 21,
          "metadata": {},
          "output_type": "execute_result"
        }
      ],
      "source": [
        "class_obj3.test_clas1()"
      ]
    },
    {
      "cell_type": "code",
      "execution_count": null,
      "metadata": {
        "colab": {
          "base_uri": "https://localhost:8080/",
          "height": 35
        },
        "id": "jj8BreO3mWu6",
        "outputId": "b441bfb3-2d3d-43fd-c6c8-e53706724d56"
      },
      "outputs": [
        {
          "data": {
            "application/vnd.google.colaboratory.intrinsic+json": {
              "type": "string"
            },
            "text/plain": [
              "'This is class2'"
            ]
          },
          "execution_count": 22,
          "metadata": {},
          "output_type": "execute_result"
        }
      ],
      "source": [
        "class_obj3.test_clas2()"
      ]
    },
    {
      "cell_type": "code",
      "execution_count": null,
      "metadata": {
        "id": "IKM4QWa3mdQr"
      },
      "outputs": [],
      "source": [
        "# #Q4\n",
        "# Getters and setters are special methods used to control access to and modification of an object's attributes.\n",
        "\n",
        "# Getter (Accessor):\n",
        "# A method that retrieves the value of an attribute.\n",
        "# Typically named like get_attribute_name().\n",
        "\n",
        "# Setter (Mutator):\n",
        "# A method that sets or updates the value of an attribute.\n",
        "# Often named like set_attribute_name().\n",
        "\n",
        "class Person:\n",
        "    def __init__(self, name, age):\n",
        "        self._name = name  # Private attribute (note the underscore)\n",
        "        self._age = age\n",
        "\n",
        "    def get_name(self):  # Getter method\n",
        "        return self._name\n",
        "\n",
        "    def set_name(self, new_name):  # Setter method\n",
        "        self._name = new_name\n",
        "\n",
        "    def get_age(self):\n",
        "        return self._age\n",
        "\n",
        "    def set_age(self, new_age):\n",
        "        if 0 < new_age <= 120:  # Add validation for age\n",
        "            self._age = new_age\n",
        "        else:\n",
        "            raise ValueError(\"Age must be between 1 and 120\")"
      ]
    },
    {
      "cell_type": "code",
      "execution_count": null,
      "metadata": {
        "id": "zAS3wJEjmhC9"
      },
      "outputs": [],
      "source": [
        "person = Person(\"Alice\", 30)"
      ]
    },
    {
      "cell_type": "code",
      "execution_count": null,
      "metadata": {
        "colab": {
          "base_uri": "https://localhost:8080/"
        },
        "id": "MJQ_40r7mjbC",
        "outputId": "0b6053b3-b9a0-486e-8950-4eba3f59d455"
      },
      "outputs": [
        {
          "name": "stdout",
          "output_type": "stream",
          "text": [
            "Alice\n"
          ]
        }
      ],
      "source": [
        "print(person.get_name())"
      ]
    },
    {
      "cell_type": "code",
      "execution_count": null,
      "metadata": {
        "colab": {
          "base_uri": "https://localhost:8080/"
        },
        "id": "e7jAdiO6biMZ",
        "outputId": "8baaeb87-fa5d-47da-d718-e31c0add7be7"
      },
      "outputs": [
        {
          "name": "stdout",
          "output_type": "stream",
          "text": [
            "30\n"
          ]
        }
      ],
      "source": [
        "print(person.get_age())"
      ]
    },
    {
      "cell_type": "code",
      "execution_count": null,
      "metadata": {
        "id": "KrCKk-v8oSTV"
      },
      "outputs": [],
      "source": [
        "person.set_name(\"Bob\")\n",
        "person.set_age(40)"
      ]
    },
    {
      "cell_type": "code",
      "execution_count": null,
      "metadata": {
        "colab": {
          "base_uri": "https://localhost:8080/"
        },
        "id": "cTtsuNnUoUuW",
        "outputId": "2aeddcf7-17a9-4d6e-9424-4e359fa5307d"
      },
      "outputs": [
        {
          "name": "stdout",
          "output_type": "stream",
          "text": [
            "Bob\n",
            "40\n"
          ]
        }
      ],
      "source": [
        "print(person.get_name())\n",
        "print(person.get_age())"
      ]
    },
    {
      "cell_type": "code",
      "execution_count": 1,
      "metadata": {
        "id": "yILHu8Z9oa_W"
      },
      "outputs": [],
      "source": [
        "#Q5\n",
        "# Method overriding is a feature of object-oriented programming that allows a child class to redefine a method inherited from its parent class.\n",
        "# This enables the child class to provide a specialized implementation of that method while maintaining the same method signature (name, parameters)."
      ]
    },
    {
      "cell_type": "code",
      "source": [
        "class Animal:\n",
        "    def make_sound(self):\n",
        "        print(\"Generic animal sound\")\n",
        "\n",
        "\n",
        "class Dog(Animal):\n",
        "    def make_sound(self):  # Overriding the make_sound method\n",
        "        print(\"Woof!\")\n",
        "\n",
        "\n",
        "class Cat(Animal):\n",
        "    def make_sound(self):  # Overriding the make_sound method\n",
        "        print(\"Meow!\")\n",
        "\n",
        "\n",
        "\n",
        "animals = [Animal(), Dog(), Cat()]\n",
        "\n",
        "\n",
        "for animal in animals:\n",
        "    animal.make_sound()\n"
      ],
      "metadata": {
        "colab": {
          "base_uri": "https://localhost:8080/"
        },
        "id": "2wSQnr-uejTr",
        "outputId": "4db78921-c359-4a0d-93c7-daedf4c5cbb4"
      },
      "execution_count": 38,
      "outputs": [
        {
          "output_type": "stream",
          "name": "stdout",
          "text": [
            "Generic animal sound\n",
            "Woof!\n",
            "Meow!\n"
          ]
        }
      ]
    },
    {
      "cell_type": "code",
      "source": [],
      "metadata": {
        "id": "olaNCdvJeqCL"
      },
      "execution_count": null,
      "outputs": []
    }
  ],
  "metadata": {
    "colab": {
      "provenance": []
    },
    "kernelspec": {
      "display_name": "Python 3",
      "name": "python3"
    },
    "language_info": {
      "name": "python"
    }
  },
  "nbformat": 4,
  "nbformat_minor": 0
}