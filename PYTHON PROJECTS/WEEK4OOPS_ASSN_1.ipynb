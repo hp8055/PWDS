{
  "nbformat": 4,
  "nbformat_minor": 0,
  "metadata": {
    "colab": {
      "provenance": []
    },
    "kernelspec": {
      "name": "python3",
      "display_name": "Python 3"
    },
    "language_info": {
      "name": "python"
    }
  },
  "cells": [
    {
      "cell_type": "code",
      "execution_count": 2,
      "metadata": {
        "colab": {
          "base_uri": "https://localhost:8080/"
        },
        "id": "bVsp6n_kQvkg",
        "outputId": "6445ad9a-54e9-48f4-d6de-10076308c546"
      },
      "outputs": [
        {
          "output_type": "stream",
          "name": "stdout",
          "text": [
            "Fido\n",
            "Golden Retriever\n",
            "Woof!\n"
          ]
        }
      ],
      "source": [
        "# #Q1\n",
        "\n",
        "# In object-oriented programming (OOP), classes and objects serve as blueprints and instances of real-world entities or abstract concepts.\n",
        "\n",
        "# Class:\n",
        "# Blueprint or template: Defines the structure and behavior of objects.\n",
        "# Contains attributes (data) and methods (functions).\n",
        "# Instances are created from it.\n",
        "\n",
        "# Object:\n",
        "# Individual instance of a class: Represents a specific entity or concept.\n",
        "# Has its own state (values of attributes) and can perform actions (invoke methods).\n",
        "\n",
        "\n",
        "class Dog:\n",
        "    def __init__(self, name, breed):\n",
        "        self.name = name\n",
        "        self.breed = breed\n",
        "\n",
        "    def bark(self):\n",
        "        print(\"Woof!\")\n",
        "\n",
        "\n",
        "my_dog = Dog(\"Fido\", \"Labrador\")\n",
        "your_dog = Dog(\"Buddy\", \"Golden Retriever\")\n",
        "\n",
        "\n",
        "print(my_dog.name)\n",
        "print(your_dog.breed)\n",
        "\n",
        "\n",
        "my_dog.bark()\n"
      ]
    },
    {
      "cell_type": "code",
      "source": [
        "# #Q2\n",
        "# Polymorphism,Abstraction,Inheritance,Encapsulation"
      ],
      "metadata": {
        "id": "2g-iyOAbSURb"
      },
      "execution_count": 3,
      "outputs": []
    },
    {
      "cell_type": "code",
      "source": [
        "# #Q3\n",
        "# __init__ is a special method called the constructor.\n",
        "# It's automatically invoked when a new object of a class is created.\n",
        "#  Its primary purpose is to initialize the object's attributes (data) with appropriate values.\n",
        "\n",
        "class Person:\n",
        "    def __init__(self, name, age):\n",
        "        self.name = name\n",
        "        self.age = age\n",
        "\n",
        "\n",
        "person1 = Person(\"Alice\", 30)\n",
        "\n",
        "\n",
        "print(person1.name)\n",
        "print(person1.age)\n"
      ],
      "metadata": {
        "colab": {
          "base_uri": "https://localhost:8080/"
        },
        "id": "bMc2Wxv1TEtv",
        "outputId": "61c9ebdd-16b1-49fb-ec02-c413fb51cb4d"
      },
      "execution_count": 4,
      "outputs": [
        {
          "output_type": "stream",
          "name": "stdout",
          "text": [
            "Alice\n",
            "30\n"
          ]
        }
      ]
    },
    {
      "cell_type": "code",
      "source": [
        "# #Q4\n",
        "# self points to the current object inside a class.\n",
        "# It lets you access the object's data and methods within its functions.\n",
        "# Using self makes your code clearer and avoids confusion."
      ],
      "metadata": {
        "id": "P0RsHzTxT8qU"
      },
      "execution_count": 5,
      "outputs": []
    },
    {
      "cell_type": "code",
      "source": [
        "# #Q5\n",
        "# In programming, it means creating new classes (children) that inherit features and abilities from existing classes (parents).\n",
        "#  This means children can reuse code and add their own unique characteristics.\n",
        "\n",
        "#1. Single Inheritance: A child class inherits from only one parent class.\n",
        "class Animal:\n",
        "    def breathe(self):\n",
        "        print(\"Animal is breathing.\")\n",
        "\n",
        "class Dog(Animal):\n",
        "    def bark(self):\n",
        "        print(\"Woof!\")\n",
        "\n",
        "#2. Multiple Inheritance: A child class inherits from two or more parent classes.\n",
        "\n",
        "class Musician:\n",
        "    def play_instrument(self):\n",
        "        print(\"Playing instrument.\")\n",
        "\n",
        "class Singer:\n",
        "    def sing(self):\n",
        "        print(\"Singing.\")\n",
        "\n",
        "class Vocalist(Musician, Singer):\n",
        "    pass\n",
        "\n",
        "#3. Multilevel Inheritance: A child class inherits from a parent class, which itself inherits from another class.\n",
        "\n",
        "class Employee:\n",
        "    def work(self):\n",
        "        print(\"Working.\")\n",
        "\n",
        "class Manager(Employee):\n",
        "    def manage(self):\n",
        "        print(\"Managing.\")\n",
        "\n",
        "class CEO(Manager):\n",
        "    def make_decisions(self):\n",
        "        print(\"Making decisions.\")\n",
        "#4. Hierarchical Inheritance: Multiple child classes inherit from a single parent class.\n",
        "\n",
        "class Vehicle:\n",
        "    pass\n",
        "\n",
        "class Car(Vehicle):\n",
        "    pass\n",
        "\n",
        "class Truck(Vehicle):\n",
        "    pass\n",
        "\n"
      ],
      "metadata": {
        "id": "cFRuJQHuXEBf"
      },
      "execution_count": 6,
      "outputs": []
    },
    {
      "cell_type": "code",
      "source": [],
      "metadata": {
        "id": "49KVbcNac83Q"
      },
      "execution_count": null,
      "outputs": []
    }
  ]
}