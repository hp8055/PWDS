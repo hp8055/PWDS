{
  "nbformat": 4,
  "nbformat_minor": 0,
  "metadata": {
    "colab": {
      "provenance": []
    },
    "kernelspec": {
      "name": "python3",
      "display_name": "Python 3"
    },
    "language_info": {
      "name": "python"
    }
  },
  "cells": [
    {
      "cell_type": "code",
      "execution_count": null,
      "metadata": {
        "id": "1iwbcdOYAdfG"
      },
      "outputs": [],
      "source": [
        "#Q1\n",
        "l = [('Sachin Tendulkar',34357),('Ricky Pointing',27483),('Jack Kallis',25534),('Virat Kohli',24936)]"
      ]
    },
    {
      "cell_type": "code",
      "source": [
        "l.sort(key = lambda x:x[1])"
      ],
      "metadata": {
        "id": "DVhtRV-AFoTD"
      },
      "execution_count": null,
      "outputs": []
    },
    {
      "cell_type": "code",
      "source": [
        "l\n"
      ],
      "metadata": {
        "colab": {
          "base_uri": "https://localhost:8080/"
        },
        "id": "sZrFuf08VZar",
        "outputId": "4eefd804-f597-4ba2-8070-eff080d70543"
      },
      "execution_count": null,
      "outputs": [
        {
          "output_type": "execute_result",
          "data": {
            "text/plain": [
              "[('Virat Kohli', 24936),\n",
              " ('Jack Kallis', 25534),\n",
              " ('Ricky Pointing', 27483),\n",
              " ('Sachin Tendulkar', 34357)]"
            ]
          },
          "metadata": {},
          "execution_count": 18
        }
      ]
    },
    {
      "cell_type": "code",
      "source": [
        "#Q2\n",
        "l2 = [1,2,3,4,5,6,7,8,9,10]\n",
        "list(map(lambda x:x**2,l2))"
      ],
      "metadata": {
        "colab": {
          "base_uri": "https://localhost:8080/"
        },
        "id": "IRG0ujOxXZqe",
        "outputId": "bbbb570b-dce5-4623-9c48-4ae626b38e18"
      },
      "execution_count": null,
      "outputs": [
        {
          "output_type": "execute_result",
          "data": {
            "text/plain": [
              "[1, 4, 9, 16, 25, 36, 49, 64, 81, 100]"
            ]
          },
          "metadata": {},
          "execution_count": 20
        }
      ]
    },
    {
      "cell_type": "code",
      "source": [
        "#Q3\n",
        "l3 = [1,2,3,4,5,6,7,8,9,10]\n",
        "tuple(map(lambda x:str(x),l3))"
      ],
      "metadata": {
        "colab": {
          "base_uri": "https://localhost:8080/"
        },
        "id": "gY3ssPSWZPnw",
        "outputId": "953b48bf-fb29-4f66-aa79-62348c88f18b"
      },
      "execution_count": null,
      "outputs": [
        {
          "output_type": "execute_result",
          "data": {
            "text/plain": [
              "('1', '2', '3', '4', '5', '6', '7', '8', '9', '10')"
            ]
          },
          "metadata": {},
          "execution_count": 22
        }
      ]
    },
    {
      "cell_type": "code",
      "source": [
        "#Q4\n",
        "from functools import reduce\n",
        "reduce (lambda x,y:x+y,list(range(25)))\n"
      ],
      "metadata": {
        "colab": {
          "base_uri": "https://localhost:8080/"
        },
        "id": "HVOmmk8HemrQ",
        "outputId": "a5ac3cdc-4768-4a7e-e18e-4f1298bc3825"
      },
      "execution_count": null,
      "outputs": [
        {
          "output_type": "execute_result",
          "data": {
            "text/plain": [
              "300"
            ]
          },
          "metadata": {},
          "execution_count": 3
        }
      ]
    },
    {
      "cell_type": "code",
      "source": [
        "#Q5\n",
        "l = [2,3,6,9,27,60,90,120,55,46]\n",
        "a = list(filter(lambda x:x%2==0 or x%3==0,l))\n",
        "print(a)"
      ],
      "metadata": {
        "colab": {
          "base_uri": "https://localhost:8080/"
        },
        "id": "d7PnVBaMJL1Q",
        "outputId": "5c1d9430-1460-4628-8eee-68705e2288b3"
      },
      "execution_count": null,
      "outputs": [
        {
          "output_type": "stream",
          "name": "stdout",
          "text": [
            "[2, 3, 6, 9, 27, 60, 90, 120, 46]\n"
          ]
        }
      ]
    },
    {
      "cell_type": "code",
      "source": [
        "#Q6\n",
        "l = ['python','php','aba','radar','level']\n",
        "a= list(filter(lambda x: (x == \"\".join(reversed(x))), l))\n",
        "print(a)"
      ],
      "metadata": {
        "colab": {
          "base_uri": "https://localhost:8080/"
        },
        "id": "VPAQJ6X2Otk6",
        "outputId": "d4f5b2d6-0615-42ce-d858-d23df0caa395"
      },
      "execution_count": null,
      "outputs": [
        {
          "output_type": "stream",
          "name": "stdout",
          "text": [
            "['php', 'aba', 'radar', 'level']\n"
          ]
        }
      ]
    },
    {
      "cell_type": "code",
      "source": [],
      "metadata": {
        "id": "RGMH7lUqQRrK"
      },
      "execution_count": 27,
      "outputs": []
    },
    {
      "cell_type": "code",
      "source": [],
      "metadata": {
        "colab": {
          "base_uri": "https://localhost:8080/"
        },
        "id": "g5b6f4tmR3G5",
        "outputId": "7ae3fb34-2fb9-4eae-aae1-fde465b8ff21"
      },
      "execution_count": null,
      "outputs": [
        {
          "output_type": "execute_result",
          "data": {
            "text/plain": [
              "<reversed at 0x79e3dcc2beb0>"
            ]
          },
          "metadata": {},
          "execution_count": 22
        }
      ]
    },
    {
      "cell_type": "code",
      "source": [],
      "metadata": {
        "id": "huwsmlY-UiHg"
      },
      "execution_count": null,
      "outputs": []
    }
  ]
}