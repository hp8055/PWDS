{
  "nbformat": 4,
  "nbformat_minor": 0,
  "metadata": {
    "colab": {
      "provenance": []
    },
    "kernelspec": {
      "name": "python3",
      "display_name": "Python 3"
    },
    "language_info": {
      "name": "python"
    }
  },
  "cells": [
    {
      "cell_type": "code",
      "execution_count": null,
      "metadata": {
        "colab": {
          "base_uri": "https://localhost:8080/"
        },
        "id": "3G3xlCyAdevs",
        "outputId": "1bad5f00-eb68-4d6d-802a-650f8d17e0c2"
      },
      "outputs": [
        {
          "output_type": "stream",
          "name": "stdout",
          "text": [
            "Car is accelerating.\n",
            "Car is braking.\n"
          ]
        }
      ],
      "source": [
        "# #Q1\n",
        "\n",
        "# Abstraction in OOP is the process of focusing on the essential characteristics of an object while hiding its underlying implementation details.\n",
        "# It allows you to create simpler interfaces for users to interact with, making code more manageable and less overwhelming.\n",
        "\n",
        "class Car:\n",
        "    def __init__(self, model, year):\n",
        "        self.model = model\n",
        "        self.year = year\n",
        "\n",
        "    def start(self):\n",
        "        pass\n",
        "\n",
        "    def accelerate(self):\n",
        "        print(\"Car is accelerating.\")\n",
        "\n",
        "    def brake(self):\n",
        "        print(\"Car is braking.\")\n",
        "\n",
        "\n",
        "my_car = Car(\"Toyota Camry\", 2023)\n",
        "my_car.start()\n",
        "my_car.accelerate()\n",
        "my_car.brake()\n"
      ]
    },
    {
      "cell_type": "code",
      "source": [
        "# #Q2\n",
        "# Abstraction: \"What\" you see and use, focusing on essentials and hiding complexity.\n",
        "# Encapsulation: \"How\" things work, protecting internal details and controlling access.\n",
        "\n",
        "\n",
        "\n",
        "class Car:\n",
        "    def __init__(self, model, year):\n",
        "        self.__engine_type = \"V6\"\n",
        "        self.model = model\n",
        "        self.year = year\n",
        "\n",
        "    def start(self):\n",
        "        print(\"Starting the car...\")\n",
        "\n",
        "    def drive(self):\n",
        "        if self.__check_engine():\n",
        "            print(\"Car is driving.\")\n",
        "        else:\n",
        "            print(\"Engine needs maintenance.\")\n",
        "\n",
        "    def __check_engine(self):\n",
        "        return True\n"
      ],
      "metadata": {
        "id": "KbH8yelzgpEq"
      },
      "execution_count": null,
      "outputs": []
    },
    {
      "cell_type": "code",
      "source": [
        "# #Q3\n",
        "# The abc module (Abstract Base Classes) provides tools for defining abstract classes and interfaces in Python.\n",
        "# These are classes that cannot be instantiated directly, but serve as blueprints for concrete subclasses to inherit from.\n",
        "# the abc module helps you create well-defined, structured, and adaptable class hierarchies in Python, promoting code clarity, consistency, and maintainability.\n",
        "\n",
        "\n"
      ],
      "metadata": {
        "id": "CW1R07rMkYxV"
      },
      "execution_count": null,
      "outputs": []
    },
    {
      "cell_type": "code",
      "source": [
        "#Q4\n",
        "# Data Abstraction can be achieved using following.\n",
        "# 1. Encapsulation using Classes and Private Attributes\n",
        "# 2. Abstract Base Classes (ABCs)\n",
        "# 3. Property Decorators\n",
        "# 4. Getter and Setter Methods\n",
        "# 5. Magic Methods\n",
        "\n"
      ],
      "metadata": {
        "id": "d0xCg_AbmeOf"
      },
      "execution_count": null,
      "outputs": []
    },
    {
      "cell_type": "code",
      "source": [
        "# #Q5\n",
        "\n",
        "# No, you cannot directly create an instance (object) of an abstract class in Python.\n",
        "\n",
        "# Here's why, in short:\n",
        "\n",
        "# Abstract classes are blueprints: They define a general structure and behavior, but they don't have all the details necessary for a fully functional object.\n",
        "# Abstract methods: They often contain abstract methods, which are placeholders without concrete implementations. These methods must be implemented by subclasses to create complete objects.\n",
        "# Enforcing structure: Abstract classes ensure that subclasses adhere to a specific contract and provide the necessary functionality for their intended use."
      ],
      "metadata": {
        "id": "t-_xe1jtrWg-"
      },
      "execution_count": null,
      "outputs": []
    }
  ]
}