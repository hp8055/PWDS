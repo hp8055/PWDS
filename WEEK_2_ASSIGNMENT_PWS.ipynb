{
  "nbformat": 4,
  "nbformat_minor": 0,
  "metadata": {
    "colab": {
      "provenance": []
    },
    "kernelspec": {
      "name": "python3",
      "display_name": "Python 3"
    },
    "language_info": {
      "name": "python"
    }
  },
  "cells": [
    {
      "cell_type": "code",
      "execution_count": null,
      "metadata": {
        "id": "OYQED9JTzTRO"
      },
      "outputs": [],
      "source": [
        "# Q1\n",
        "# We can use # for single line comment and \"\"\" or ''' for multiline comments.\n",
        "# There are 2 types of comments single line comments and multi line comments."
      ]
    },
    {
      "cell_type": "code",
      "source": [
        "# Q2\n",
        "# Variables is a reserved memory location which is used to store vales.We can declare variables directly by writing variable name followed by '=' sign and assigning required value to the variable.\n",
        "name = 'Hrishi'\n",
        "number = '12345'\n",
        "torf = True"
      ],
      "metadata": {
        "id": "9OH1ymdUL1W2"
      },
      "execution_count": null,
      "outputs": []
    },
    {
      "cell_type": "code",
      "source": [
        "# Q3\n",
        "# We can convert from one data type to another using type conversion functions.\n",
        "# Example 1\n",
        "a = 3.14\n",
        "b = int(a)\n",
        "print(b)\n",
        "# Example 2\n",
        "c = 4\n",
        "d = float(c)\n",
        "print(d)\n",
        "# Example 3\n",
        "e = 42\n",
        "f = str(e)\n",
        "print(f)"
      ],
      "metadata": {
        "id": "oim9brbF1O2v",
        "colab": {
          "base_uri": "https://localhost:8080/"
        },
        "outputId": "0acbbf7a-fdc8-4c9e-9332-40b179867b9d"
      },
      "execution_count": null,
      "outputs": [
        {
          "output_type": "stream",
          "name": "stdout",
          "text": [
            "3\n",
            "4.0\n",
            "42\n"
          ]
        }
      ]
    },
    {
      "cell_type": "code",
      "source": [
        "#Q4\n",
        "#Step 1: Create a Python Script\n",
        "#First, create a new text file and save it with a .py extension.\n",
        "#Step 2: Open the Command Line Interface\n",
        "#We can press Win + R and type 'cmd' to open command prompt\n",
        "#Step 3: Navigate to the Directory Containing Your Python Script\n",
        "# type cd and location where the file is saved.\n",
        "#Step 4: Execute the Python Script\n",
        "#Next type the file name with python at start like this :- python mytest.py\n",
        "#After executing the command, you should see the output of your Python script on the command line."
      ],
      "metadata": {
        "id": "3idSZwuv03tc"
      },
      "execution_count": null,
      "outputs": []
    },
    {
      "cell_type": "code",
      "source": [
        "#Q5\n",
        "my_list = [1,2,3,4,5]\n",
        "my_list[1:3]"
      ],
      "metadata": {
        "id": "hxbX1GQaAx5A",
        "colab": {
          "base_uri": "https://localhost:8080/"
        },
        "outputId": "370b9b07-35f6-4b79-d5bf-8e4e7cc508b2"
      },
      "execution_count": 2,
      "outputs": [
        {
          "output_type": "execute_result",
          "data": {
            "text/plain": [
              "[2, 3]"
            ]
          },
          "metadata": {},
          "execution_count": 2
        }
      ]
    },
    {
      "cell_type": "code",
      "source": [
        "#Q6\n",
        "#Complex numbers are the numbers that are expressed in the form of a+ib where, a,b are real numbers and 'i' is an imaginary\n",
        "#In Python, we use the j or J suffix instead of i, for denoting the imaginary part of the complex number. For example, 3 + 3j."
      ],
      "metadata": {
        "id": "kVzkO4Sm9VIs"
      },
      "execution_count": 3,
      "outputs": []
    },
    {
      "cell_type": "code",
      "source": [
        "#Q7\n",
        "age = 25\n",
        "\n",
        "print (age)"
      ],
      "metadata": {
        "colab": {
          "base_uri": "https://localhost:8080/"
        },
        "id": "mVSv3Qad_P7g",
        "outputId": "cec7f36e-598a-4eb9-953a-9d6bf56c7428"
      },
      "execution_count": 9,
      "outputs": [
        {
          "output_type": "stream",
          "name": "stdout",
          "text": [
            "25\n"
          ]
        }
      ]
    },
    {
      "cell_type": "code",
      "source": [
        "#Q8\n",
        "price = 9.99\n",
        "type(price)"
      ],
      "metadata": {
        "colab": {
          "base_uri": "https://localhost:8080/"
        },
        "id": "UmxEa0ZfCfft",
        "outputId": "7f057f0a-4cdd-4327-eafb-1a6be9268c0d"
      },
      "execution_count": 11,
      "outputs": [
        {
          "output_type": "execute_result",
          "data": {
            "text/plain": [
              "float"
            ]
          },
          "metadata": {},
          "execution_count": 11
        }
      ]
    },
    {
      "cell_type": "code",
      "source": [
        "#Q9\n",
        "name = 'Hrishikesh'\n",
        "print(name)"
      ],
      "metadata": {
        "colab": {
          "base_uri": "https://localhost:8080/"
        },
        "id": "i8clL4s1_Z2C",
        "outputId": "6996699a-f050-4d59-8514-fb7eda362b05"
      },
      "execution_count": 5,
      "outputs": [
        {
          "output_type": "stream",
          "name": "stdout",
          "text": [
            "Hrishikesh\n"
          ]
        }
      ]
    },
    {
      "cell_type": "code",
      "source": [
        "#Q10\n",
        "s = 'Hello, World!'\n",
        "print(s[7:12])"
      ],
      "metadata": {
        "colab": {
          "base_uri": "https://localhost:8080/"
        },
        "id": "2LXHiahVBJEI",
        "outputId": "42b6d0e3-04f4-4a66-eda8-9afa4cadd911"
      },
      "execution_count": 8,
      "outputs": [
        {
          "output_type": "stream",
          "name": "stdout",
          "text": [
            "World\n"
          ]
        }
      ]
    },
    {
      "cell_type": "code",
      "source": [
        "#Q11\n",
        "is_student = False\n",
        "print (is_student)"
      ],
      "metadata": {
        "colab": {
          "base_uri": "https://localhost:8080/"
        },
        "id": "UgbfY_JtBVLB",
        "outputId": "e9316247-5dba-413e-ff4f-3185e6c03fde"
      },
      "execution_count": 10,
      "outputs": [
        {
          "output_type": "stream",
          "name": "stdout",
          "text": [
            "False\n"
          ]
        }
      ]
    },
    {
      "cell_type": "code",
      "source": [],
      "metadata": {
        "id": "Y4D0v88mCojW"
      },
      "execution_count": null,
      "outputs": []
    }
  ]
}