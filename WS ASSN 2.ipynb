{
 "cells": [
  {
   "cell_type": "code",
   "execution_count": 12,
   "id": "0c0319f9",
   "metadata": {},
   "outputs": [],
   "source": [
    "import logging\n",
    "logging.basicConfig(filename='ImageScrapping.log',level=logging.DEBUG,format= '%(asctime)s - %(name)s - %(levelname)s - %(message)s')"
   ]
  },
  {
   "cell_type": "code",
   "execution_count": 13,
   "id": "9b840148",
   "metadata": {},
   "outputs": [
    {
     "name": "stdout",
     "output_type": "stream",
     "text": [
      "Requirement already satisfied: selenium in c:\\users\\hrish\\anaconda3\\lib\\site-packages (4.17.2)\n",
      "Requirement already satisfied: trio-websocket~=0.9 in c:\\users\\hrish\\anaconda3\\lib\\site-packages (from selenium) (0.11.1)\n",
      "Requirement already satisfied: urllib3[socks]<3,>=1.26 in c:\\users\\hrish\\anaconda3\\lib\\site-packages (from selenium) (1.26.15)\n",
      "Requirement already satisfied: certifi>=2021.10.8 in c:\\users\\hrish\\anaconda3\\lib\\site-packages (from selenium) (2022.12.7)\n",
      "Requirement already satisfied: typing_extensions>=4.9.0 in c:\\users\\hrish\\anaconda3\\lib\\site-packages (from selenium) (4.9.0)\n",
      "Requirement already satisfied: trio~=0.17 in c:\\users\\hrish\\anaconda3\\lib\\site-packages (from selenium) (0.24.0)\n",
      "Requirement already satisfied: sniffio>=1.3.0 in c:\\users\\hrish\\anaconda3\\lib\\site-packages (from trio~=0.17->selenium) (1.3.0)\n",
      "Requirement already satisfied: cffi>=1.14 in c:\\users\\hrish\\anaconda3\\lib\\site-packages (from trio~=0.17->selenium) (1.15.1)\n",
      "Requirement already satisfied: exceptiongroup in c:\\users\\hrish\\anaconda3\\lib\\site-packages (from trio~=0.17->selenium) (1.2.0)\n",
      "Requirement already satisfied: attrs>=20.1.0 in c:\\users\\hrish\\anaconda3\\lib\\site-packages (from trio~=0.17->selenium) (22.1.0)\n",
      "Requirement already satisfied: sortedcontainers in c:\\users\\hrish\\anaconda3\\lib\\site-packages (from trio~=0.17->selenium) (2.4.0)\n",
      "Requirement already satisfied: outcome in c:\\users\\hrish\\anaconda3\\lib\\site-packages (from trio~=0.17->selenium) (1.3.0.post0)\n",
      "Requirement already satisfied: idna in c:\\users\\hrish\\anaconda3\\lib\\site-packages (from trio~=0.17->selenium) (3.4)\n",
      "Requirement already satisfied: wsproto>=0.14 in c:\\users\\hrish\\anaconda3\\lib\\site-packages (from trio-websocket~=0.9->selenium) (1.2.0)\n",
      "Requirement already satisfied: PySocks!=1.5.7,<2.0,>=1.5.6 in c:\\users\\hrish\\anaconda3\\lib\\site-packages (from urllib3[socks]<3,>=1.26->selenium) (1.7.1)\n",
      "Requirement already satisfied: pycparser in c:\\users\\hrish\\anaconda3\\lib\\site-packages (from cffi>=1.14->trio~=0.17->selenium) (2.21)\n",
      "Requirement already satisfied: h11<1,>=0.9.0 in c:\\users\\hrish\\anaconda3\\lib\\site-packages (from wsproto>=0.14->trio-websocket~=0.9->selenium) (0.14.0)\n",
      "Note: you may need to restart the kernel to use updated packages.\n"
     ]
    },
    {
     "name": "stderr",
     "output_type": "stream",
     "text": [
      "WARNING: Ignoring invalid distribution -lotly (c:\\users\\hrish\\anaconda3\\lib\\site-packages)\n",
      "WARNING: Ignoring invalid distribution -lotly (c:\\users\\hrish\\anaconda3\\lib\\site-packages)\n",
      "WARNING: Ignoring invalid distribution -lotly (c:\\users\\hrish\\anaconda3\\lib\\site-packages)\n",
      "WARNING: Ignoring invalid distribution -lotly (c:\\users\\hrish\\anaconda3\\lib\\site-packages)\n",
      "WARNING: Ignoring invalid distribution -lotly (c:\\users\\hrish\\anaconda3\\lib\\site-packages)\n",
      "WARNING: Ignoring invalid distribution -lotly (c:\\users\\hrish\\anaconda3\\lib\\site-packages)\n"
     ]
    }
   ],
   "source": [
    "pip install selenium"
   ]
  },
  {
   "cell_type": "code",
   "execution_count": 14,
   "id": "2f05fc7c",
   "metadata": {},
   "outputs": [],
   "source": [
    "from selenium import webdriver\n",
    "from selenium.webdriver.common.by import By\n",
    "from selenium.webdriver.chrome.service import Service\n",
    "\n",
    "# Importing Selenium webdriver in headless mode\n",
    "user_agent = \"Mozilla/5.0 (Windows NT 10.0; Win64; x64) AppleWebKit/537.36 (KHTML, like Gecko) Chrome/85.0.4183.83 Safari/537.36\"\n",
    "\n",
    "options = webdriver.ChromeOptions()\n",
    "options.add_argument('--headless')\n",
    "options.add_argument(f'user-agent={user_agent}')\n",
    "options.add_argument(\"--window-size=1920,1080\")\n",
    "options.add_argument('--ignore-certificate-errors')\n",
    "options.add_argument('--allow-running-insecure-content')\n",
    "options.add_argument(\"--disable-extensions\")\n",
    "options.add_argument(\"--proxy-server='direct://'\")\n",
    "options.add_argument(\"--proxy-bypass-list=*\")\n",
    "options.add_argument(\"--start-maximized\")\n",
    "options.add_argument('--disable-gpu')\n",
    "options.add_argument('--disable-dev-shm-usage')\n",
    "options.add_argument('--no-sandbox')\n",
    "s = Service(executable_path=\"D:\\PERSONAL STUDY\\DATA SCIENCE\\chromedriver-win64\\chromedriver.exe\")\n",
    "driver = webdriver.Chrome(service=s, options=options)"
   ]
  },
  {
   "cell_type": "code",
   "execution_count": 15,
   "id": "1b94c9f7",
   "metadata": {},
   "outputs": [],
   "source": [
    "#Q1\n",
    "def get_top5_urls(url):\n",
    "    driver.get(url)\n",
    "    driver.execute_script(\"window.scrollTo(0, 200)\")\n",
    "    url_elems = driver.find_elements(By.XPATH,\"//a[@id='video-title-link']\")    \n",
    "    url_elms5 = url_elems[0:5]\n",
    "    top5url = []\n",
    "    for i in url_elms5:\n",
    "        top5url.append(i.get_attribute('href'))   \n",
    "    return top5url   "
   ]
  },
  {
   "cell_type": "code",
   "execution_count": 16,
   "id": "ace1aabb",
   "metadata": {},
   "outputs": [
    {
     "data": {
      "text/plain": [
       "['https://www.youtube.com/watch?v=0XMryQZ0uUs',\n",
       " 'https://www.youtube.com/watch?v=z0CtovThIr0',\n",
       " 'https://www.youtube.com/watch?v=OBx5ZEMOZ-U',\n",
       " 'https://www.youtube.com/watch?v=LUPm1ZxYefA',\n",
       " 'https://www.youtube.com/watch?v=ptwYFGxNmD0']"
      ]
     },
     "execution_count": 16,
     "metadata": {},
     "output_type": "execute_result"
    }
   ],
   "source": [
    "url = \"https://www.youtube.com/@PW-Foundation/videos\"\n",
    "top5url = get_top5_urls(url)\n",
    "top5url"
   ]
  },
  {
   "cell_type": "code",
   "execution_count": 17,
   "id": "dd4b47fd",
   "metadata": {},
   "outputs": [],
   "source": [
    "#Q2\n",
    "import time\n",
    "def thumbnail_urls(url):\n",
    "    driver.get(url)\n",
    "    time.sleep(2)    \n",
    "    images = driver.find_elements(By.TAG_NAME,'img')\n",
    "    img_links = []\n",
    "    for i in images:    \n",
    "        link = i.get_attribute('src')\n",
    "        if str(link).find('i.ytimg.com')>0:\n",
    "            img_links.append(link)    \n",
    "    return img_links[0:5]"
   ]
  },
  {
   "cell_type": "code",
   "execution_count": 18,
   "id": "d5869b8c",
   "metadata": {},
   "outputs": [
    {
     "data": {
      "text/plain": [
       "['https://i.ytimg.com/vi/0XMryQZ0uUs/hqdefault.jpg?sqp=-oaymwEcCNACELwBSFXyq4qpAw4IARUAAIhCGAFwAcABBg==&rs=AOn4CLAHUtTfnK3VQXai1gZlfPvUdoJ8wA',\n",
       " 'https://i.ytimg.com/vi/z0CtovThIr0/hqdefault.jpg?sqp=-oaymwEcCNACELwBSFXyq4qpAw4IARUAAIhCGAFwAcABBg==&rs=AOn4CLBa7GKjB4SUF8p3h9UcuPK5tKSvQQ',\n",
       " 'https://i.ytimg.com/vi/OBx5ZEMOZ-U/hqdefault.jpg?sqp=-oaymwEcCNACELwBSFXyq4qpAw4IARUAAIhCGAFwAcABBg==&rs=AOn4CLBREfCPrswnOYOzPlJxmboA7oRrtw',\n",
       " 'https://i.ytimg.com/vi/LUPm1ZxYefA/hqdefault.jpg?sqp=-oaymwEcCNACELwBSFXyq4qpAw4IARUAAIhCGAFwAcABBg==&rs=AOn4CLCd2HqU8eGWP6nDVFDygLQcud-aig',\n",
       " 'https://i.ytimg.com/vi/ptwYFGxNmD0/hqdefault.jpg?sqp=-oaymwEcCNACELwBSFXyq4qpAw4IARUAAIhCGAFwAcABBg==&rs=AOn4CLCVNSS-KXjNIGCx_lf6kdlF6QwEug']"
      ]
     },
     "execution_count": 18,
     "metadata": {},
     "output_type": "execute_result"
    }
   ],
   "source": [
    "top5thumbnails = thumbnail_urls(url)\n",
    "top5thumbnails"
   ]
  },
  {
   "cell_type": "code",
   "execution_count": 22,
   "id": "7f8e7e59",
   "metadata": {},
   "outputs": [],
   "source": [
    "#Q3\n",
    "def title_finder(url):\n",
    "    driver.get(url)\n",
    "    url_elems = driver.find_elements(By.XPATH,\"//a[@id='video-title-link']\")\n",
    "    url_elems5 = url_elems[0:5] \n",
    "    title_text = []\n",
    "    for i in url_elems5:\n",
    "        title_text.append(i.get_attribute('title'))\n",
    "    return(title_text)"
   ]
  },
  {
   "cell_type": "code",
   "execution_count": 23,
   "id": "792ba836",
   "metadata": {},
   "outputs": [
    {
     "data": {
      "text/plain": [
       "['If I Were You + A House is Not A Home in 1 Shot | FULL Chapter (THEORY+PYQs) | Class-9th English',\n",
       " 'STATISTICS in 1 Shot || FULL Chapter Coverage (Concepts+PYQs) || Class 9th Maths',\n",
       " 'A SLUMBER DID MY SPIRIT SEAL + THE BEGGAR in 1 Shot | FULL Chapter  (THEORY+PYQs) | Class 9 English',\n",
       " 'The Wait is Over 🔥 | MAHA MARATHON Revision Series For Class 9th & 10th | CBSE + ICSE 🎯',\n",
       " 'SOUND in 1 Shot || FULL Chapter Coverage (Concepts+PYQs) || Class 9th Physics']"
      ]
     },
     "execution_count": 23,
     "metadata": {},
     "output_type": "execute_result"
    }
   ],
   "source": [
    "top5titles = title_finder(url)\n",
    "top5titles"
   ]
  },
  {
   "cell_type": "code",
   "execution_count": 27,
   "id": "b2a61035",
   "metadata": {},
   "outputs": [],
   "source": [
    "#Q4\n",
    "def views_finder(url):\n",
    "    driver.get(url)\n",
    "    views_elements = driver.find_elements(By.XPATH,\"//span[@class='inline-metadata-item style-scope ytd-video-meta-block']\")\n",
    "    view_count = []\n",
    "    for i in views_elements:  \n",
    "        meta_string = i.text      \n",
    "        if meta_string.find('views')>0:      \n",
    "            view_count.append(meta_string)\n",
    "    return view_count[0:5] "
   ]
  },
  {
   "cell_type": "code",
   "execution_count": 28,
   "id": "71762bd5",
   "metadata": {},
   "outputs": [
    {
     "data": {
      "text/plain": [
       "['1.2K views', '7.6K views', '4.3K views', '95K views', '18K views']"
      ]
     },
     "execution_count": 28,
     "metadata": {},
     "output_type": "execute_result"
    }
   ],
   "source": [
    "top5views = views_finder(url)\n",
    "top5views"
   ]
  },
  {
   "cell_type": "code",
   "execution_count": 29,
   "id": "a3aa134f",
   "metadata": {},
   "outputs": [],
   "source": [
    "#Q5\n",
    "import time\n",
    "def get_video_upload_time(url):\n",
    "    driver.get(url)\n",
    "    time.sleep(2)\n",
    "    views_elements = driver.find_elements(By.XPATH,\"//span[@class='inline-metadata-item style-scope ytd-video-meta-block']\")\n",
    "    time_relative = []\n",
    "    for i in views_elements:  \n",
    "        meta_string = i.text             \n",
    "        if meta_string.find('ago')>0:      \n",
    "            time_relative.append(meta_string)\n",
    "        \n",
    "    return time_relative[0:5]"
   ]
  },
  {
   "cell_type": "code",
   "execution_count": 30,
   "id": "c17cb117",
   "metadata": {},
   "outputs": [
    {
     "data": {
      "text/plain": [
       "['2 hours ago', '1 day ago', '2 days ago', '3 days ago', '3 days ago']"
      ]
     },
     "execution_count": 30,
     "metadata": {},
     "output_type": "execute_result"
    }
   ],
   "source": [
    "rel_time = get_video_upload_time(url)\n",
    "rel_time"
   ]
  },
  {
   "cell_type": "code",
   "execution_count": 31,
   "id": "11f327bf",
   "metadata": {},
   "outputs": [],
   "source": [
    "## Creating function to get date from relative time\n",
    "from datetime import datetime\n",
    "import pandas as pd\n",
    "from dateutil.relativedelta import relativedelta\n",
    "def get_absolute_date(relative_time):\n",
    "    absolute_time = []\n",
    "    for i in relative_time:        \n",
    "        if i.find('hours')>0:\n",
    "            hours = int(i.split(\" \")[0])\n",
    "            tm_absolute = datetime.now() - pd.Timedelta(hours=hours)\n",
    "            dt_string = tm_absolute.strftime(\"%d %b %Y\")\n",
    "            absolute_time.append(dt_string)\n",
    "        elif i.find('day')>0:\n",
    "            days = int(i.split(\" \")[0])\n",
    "            tm_absolute = datetime.now() - pd.Timedelta(days=days)\n",
    "            dt_string = tm_absolute.strftime(\"%d %b %Y\")\n",
    "            absolute_time.append(dt_string)\n",
    "        elif i.find('week')>0:\n",
    "            weeks = int(i.split(\" \")[0])\n",
    "            tm_absolute = datetime.now() - pd.Timedelta(weeks=weeks)\n",
    "            dt_string = tm_absolute.strftime(\"%d %b %Y\")\n",
    "            absolute_time.append(dt_string)\n",
    "        elif i.find('month')>0:\n",
    "            months = int(i.split(\" \")[0])\n",
    "            tm_absolute = datetime.now() - relativedelta(months=months)\n",
    "            dt_string = tm_absolute.strftime(\"%d %b %Y\")\n",
    "            absolute_time.append(dt_string)\n",
    "        elif i.find('year')>0:\n",
    "            years = int(i.split(\" \")[0])\n",
    "            tm_absolute = datetime.now() - relativedelta(years=years)\n",
    "            dt_string = tm_absolute.strftime(\"%d %b %Y\")\n",
    "            absolute_time.append(dt_string)\n",
    "\n",
    "    return absolute_time"
   ]
  },
  {
   "cell_type": "code",
   "execution_count": 32,
   "id": "3c99c6eb",
   "metadata": {},
   "outputs": [
    {
     "data": {
      "text/plain": [
       "['03 Feb 2024', '02 Feb 2024', '01 Feb 2024', '31 Jan 2024', '31 Jan 2024']"
      ]
     },
     "execution_count": 32,
     "metadata": {},
     "output_type": "execute_result"
    }
   ],
   "source": [
    "abs_date = get_absolute_date(rel_time)\n",
    "abs_date"
   ]
  },
  {
   "cell_type": "code",
   "execution_count": 33,
   "id": "e5e591c8",
   "metadata": {},
   "outputs": [
    {
     "data": {
      "text/html": [
       "<div>\n",
       "<style scoped>\n",
       "    .dataframe tbody tr th:only-of-type {\n",
       "        vertical-align: middle;\n",
       "    }\n",
       "\n",
       "    .dataframe tbody tr th {\n",
       "        vertical-align: top;\n",
       "    }\n",
       "\n",
       "    .dataframe thead th {\n",
       "        text-align: right;\n",
       "    }\n",
       "</style>\n",
       "<table border=\"1\" class=\"dataframe\">\n",
       "  <thead>\n",
       "    <tr style=\"text-align: right;\">\n",
       "      <th></th>\n",
       "      <th>title</th>\n",
       "      <th>uploadDate</th>\n",
       "      <th>views</th>\n",
       "      <th>videoURL</th>\n",
       "      <th>thumbnailURL</th>\n",
       "    </tr>\n",
       "  </thead>\n",
       "  <tbody>\n",
       "    <tr>\n",
       "      <th>0</th>\n",
       "      <td>If I Were You + A House is Not A Home in 1 Sho...</td>\n",
       "      <td>03 Feb 2024</td>\n",
       "      <td>1.2K views</td>\n",
       "      <td>https://www.youtube.com/watch?v=0XMryQZ0uUs</td>\n",
       "      <td>https://i.ytimg.com/vi/0XMryQZ0uUs/hqdefault.j...</td>\n",
       "    </tr>\n",
       "    <tr>\n",
       "      <th>1</th>\n",
       "      <td>STATISTICS in 1 Shot || FULL Chapter Coverage ...</td>\n",
       "      <td>02 Feb 2024</td>\n",
       "      <td>7.6K views</td>\n",
       "      <td>https://www.youtube.com/watch?v=z0CtovThIr0</td>\n",
       "      <td>https://i.ytimg.com/vi/z0CtovThIr0/hqdefault.j...</td>\n",
       "    </tr>\n",
       "    <tr>\n",
       "      <th>2</th>\n",
       "      <td>A SLUMBER DID MY SPIRIT SEAL + THE BEGGAR in 1...</td>\n",
       "      <td>01 Feb 2024</td>\n",
       "      <td>4.3K views</td>\n",
       "      <td>https://www.youtube.com/watch?v=OBx5ZEMOZ-U</td>\n",
       "      <td>https://i.ytimg.com/vi/OBx5ZEMOZ-U/hqdefault.j...</td>\n",
       "    </tr>\n",
       "    <tr>\n",
       "      <th>3</th>\n",
       "      <td>The Wait is Over 🔥 | MAHA MARATHON Revision Se...</td>\n",
       "      <td>31 Jan 2024</td>\n",
       "      <td>95K views</td>\n",
       "      <td>https://www.youtube.com/watch?v=LUPm1ZxYefA</td>\n",
       "      <td>https://i.ytimg.com/vi/LUPm1ZxYefA/hqdefault.j...</td>\n",
       "    </tr>\n",
       "    <tr>\n",
       "      <th>4</th>\n",
       "      <td>SOUND in 1 Shot || FULL Chapter Coverage (Conc...</td>\n",
       "      <td>31 Jan 2024</td>\n",
       "      <td>18K views</td>\n",
       "      <td>https://www.youtube.com/watch?v=ptwYFGxNmD0</td>\n",
       "      <td>https://i.ytimg.com/vi/ptwYFGxNmD0/hqdefault.j...</td>\n",
       "    </tr>\n",
       "  </tbody>\n",
       "</table>\n",
       "</div>"
      ],
      "text/plain": [
       "                                               title   uploadDate       views  \\\n",
       "0  If I Were You + A House is Not A Home in 1 Sho...  03 Feb 2024  1.2K views   \n",
       "1  STATISTICS in 1 Shot || FULL Chapter Coverage ...  02 Feb 2024  7.6K views   \n",
       "2  A SLUMBER DID MY SPIRIT SEAL + THE BEGGAR in 1...  01 Feb 2024  4.3K views   \n",
       "3  The Wait is Over 🔥 | MAHA MARATHON Revision Se...  31 Jan 2024   95K views   \n",
       "4  SOUND in 1 Shot || FULL Chapter Coverage (Conc...  31 Jan 2024   18K views   \n",
       "\n",
       "                                      videoURL  \\\n",
       "0  https://www.youtube.com/watch?v=0XMryQZ0uUs   \n",
       "1  https://www.youtube.com/watch?v=z0CtovThIr0   \n",
       "2  https://www.youtube.com/watch?v=OBx5ZEMOZ-U   \n",
       "3  https://www.youtube.com/watch?v=LUPm1ZxYefA   \n",
       "4  https://www.youtube.com/watch?v=ptwYFGxNmD0   \n",
       "\n",
       "                                        thumbnailURL  \n",
       "0  https://i.ytimg.com/vi/0XMryQZ0uUs/hqdefault.j...  \n",
       "1  https://i.ytimg.com/vi/z0CtovThIr0/hqdefault.j...  \n",
       "2  https://i.ytimg.com/vi/OBx5ZEMOZ-U/hqdefault.j...  \n",
       "3  https://i.ytimg.com/vi/LUPm1ZxYefA/hqdefault.j...  \n",
       "4  https://i.ytimg.com/vi/ptwYFGxNmD0/hqdefault.j...  "
      ]
     },
     "execution_count": 33,
     "metadata": {},
     "output_type": "execute_result"
    }
   ],
   "source": [
    "import pandas as pd\n",
    "df = pd.DataFrame({'title':top5titles,'uploadDate':abs_date,'views':top5views,'videoURL':top5url,'thumbnailURL':top5thumbnails})\n",
    "df"
   ]
  },
  {
   "cell_type": "code",
   "execution_count": 34,
   "id": "bdc7d49e",
   "metadata": {},
   "outputs": [],
   "source": [
    "df.to_csv('YoutubeData.csv',index=False)"
   ]
  },
  {
   "cell_type": "code",
   "execution_count": 35,
   "id": "55d54da3",
   "metadata": {},
   "outputs": [],
   "source": [
    "#AWS LINK \n",
    "#https://ap-southeast-2.console.aws.amazon.com/elasticbeanstalk/home?region=ap-southeast-2#/application/overview?applicationName=pwskills_reviewscraps"
   ]
  },
  {
   "cell_type": "code",
   "execution_count": 36,
   "id": "7e66986b",
   "metadata": {},
   "outputs": [],
   "source": [
    "#CSV LINK\n",
    "#https://drive.google.com/file/d/1euSJ3pUsVyTARcDXWwJO93XRDhp3B15l/view?usp=sharing"
   ]
  },
  {
   "cell_type": "code",
   "execution_count": null,
   "id": "5b163cee",
   "metadata": {},
   "outputs": [],
   "source": []
  }
 ],
 "metadata": {
  "kernelspec": {
   "display_name": "Python 3 (ipykernel)",
   "language": "python",
   "name": "python3"
  },
  "language_info": {
   "codemirror_mode": {
    "name": "ipython",
    "version": 3
   },
   "file_extension": ".py",
   "mimetype": "text/x-python",
   "name": "python",
   "nbconvert_exporter": "python",
   "pygments_lexer": "ipython3",
   "version": "3.9.16"
  }
 },
 "nbformat": 4,
 "nbformat_minor": 5
}
