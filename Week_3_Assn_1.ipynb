{
  "cells": [
    {
      "cell_type": "code",
      "execution_count": null,
      "metadata": {
        "colab": {
          "base_uri": "https://localhost:8080/"
        },
        "id": "WuE_VIWhB0wW",
        "outputId": "8b038db3-f87b-419c-b441-438d13c27efb"
      },
      "outputs": [
        {
          "data": {
            "text/plain": [
              "[1, 3, 5, 7, 9, 11, 13, 15, 17, 19, 21, 23, 25]"
            ]
          },
          "execution_count": 30,
          "metadata": {},
          "output_type": "execute_result"
        }
      ],
      "source": [
        "#Q1\n",
        "#Def Keyword is used to create a function.\n",
        "odd_list = []\n",
        "def odd(x):\n",
        "  for i in x:\n",
        "    if i%2 != 0:\n",
        "      odd_list.append(i)\n",
        "  return odd_list\n",
        "\n",
        "odd(list(range(26)))\n"
      ]
    },
    {
      "cell_type": "code",
      "execution_count": null,
      "metadata": {
        "id": "Qb4kbfIwC0H4"
      },
      "outputs": [],
      "source": [
        "##Q2\n",
        "##*args and **kwargs are used in functions when you want to handle a variable number of arguments (both positional and keyword arguments) without explicitly defining their names in the function definition. They provide flexibility and allow functions to accept any number of arguments.\n",
        "def arg1(*args):\n",
        "  return args\n",
        "\n",
        "def kwarg1(**kwargs):\n",
        "  return kwargs"
      ]
    },
    {
      "cell_type": "code",
      "execution_count": null,
      "metadata": {
        "colab": {
          "base_uri": "https://localhost:8080/"
        },
        "id": "I1aXdc1xDX2f",
        "outputId": "d2a3c606-b88f-40b5-e116-3fb068c1523d"
      },
      "outputs": [
        {
          "data": {
            "text/plain": [
              "('Hi', 'created', '*args', 1, 2, 3, 4, 5, 6, 7, 8)"
            ]
          },
          "execution_count": 38,
          "metadata": {},
          "output_type": "execute_result"
        }
      ],
      "source": [
        "arg1(\"Hi\",\"created\",\"*args\",1,2,3,4,5,6,7,8)"
      ]
    },
    {
      "cell_type": "code",
      "execution_count": null,
      "metadata": {
        "colab": {
          "base_uri": "https://localhost:8080/"
        },
        "id": "yweluDCNE6nX",
        "outputId": "0c6afaa2-9bce-4511-a76a-c74d384fdf13"
      },
      "outputs": [
        {
          "data": {
            "text/plain": [
              "{'a': [1, 2, 3, 4], 'b': 'Hrishi', 'c': 368}"
            ]
          },
          "execution_count": 39,
          "metadata": {},
          "output_type": "execute_result"
        }
      ],
      "source": [
        "kwarg1(a=[1,2,3,4],b='Hrishi',c=368)"
      ]
    },
    {
      "cell_type": "code",
      "execution_count": null,
      "metadata": {
        "id": "kkiJ2Z6uPazK"
      },
      "outputs": [],
      "source": [
        "##Q3\n",
        "##In Python, an iterator is an object that allows iteration over a sequence of elements. It provides a way to access elements of a collection one at a time without needing to know the internal structure of that collection.\n",
        "##To initialize an iterator object, you typically use the iter() function.\n",
        "##To iterate through the elements using an iterator object, you use the next() method.\n",
        "l = [2,4,6,8,10,12,14,16,18,20]\n",
        "list1 = iter(l)"
      ]
    },
    {
      "cell_type": "code",
      "execution_count": null,
      "metadata": {
        "colab": {
          "base_uri": "https://localhost:8080/"
        },
        "id": "tS1PhsK0PkcK",
        "outputId": "3453cfab-7d7a-41c9-ddc9-37c6b91d52f7"
      },
      "outputs": [
        {
          "name": "stdout",
          "output_type": "stream",
          "text": [
            "2\n",
            "4\n",
            "6\n",
            "8\n",
            "10\n"
          ]
        }
      ],
      "source": [
        "for i in range(5):\n",
        "  print(next(list1))"
      ]
    },
    {
      "cell_type": "code",
      "execution_count": null,
      "metadata": {
        "colab": {
          "base_uri": "https://localhost:8080/"
        },
        "id": "oGC3KAqqUhct",
        "outputId": "b1eb3d88-3a4f-49ba-eeda-00023a15fb69"
      },
      "outputs": [
        {
          "name": "stdout",
          "output_type": "stream",
          "text": [
            "0\n",
            "1\n",
            "4\n",
            "9\n",
            "16\n"
          ]
        }
      ],
      "source": [
        "##Q4\n",
        "##A generator function in Python is a special type of function that generates a sequence of values using the yield keyword. Unlike normal functions that return a single value and terminate, a generator function can yield multiple values over time and maintain its state between invocations.\n",
        "##The yield keyword is used in generator functions to yield a value to the caller without destroying the function's local state. When the yield statement is encountered, it suspends the function's execution and returns the yielded value to the caller. The function's state is saved, allowing it to resume from the same point the next time it's called, remembering its previous state.\n",
        "##Example\n",
        "def square_generator(n):\n",
        "    for i in range(n):\n",
        "        yield i ** 2\n",
        "\n",
        "squares = square_generator(5)\n",
        "\n",
        "for square in squares:\n",
        "    print(square)\n"
      ]
    },
    {
      "cell_type": "code",
      "execution_count": null,
      "metadata": {
        "colab": {
          "base_uri": "https://localhost:8080/"
        },
        "id": "HyyiraL5XhBJ",
        "outputId": "f5795739-c9e2-44f3-e5fc-39ebec877f46"
      },
      "outputs": [
        {
          "name": "stdout",
          "output_type": "stream",
          "text": [
            "First 20 prime numbers less than 1000:\n",
            "2\n",
            "3\n",
            "5\n",
            "7\n",
            "11\n",
            "13\n",
            "17\n",
            "19\n",
            "23\n",
            "29\n",
            "31\n",
            "37\n",
            "41\n",
            "43\n",
            "47\n",
            "53\n",
            "59\n",
            "61\n",
            "67\n",
            "71\n"
          ]
        }
      ],
      "source": [
        "##Q5\n",
        "def generate_primes():\n",
        "    primes = [True] * 1000\n",
        "    primes[0], primes[1] = False, False\n",
        "\n",
        "    p = 2\n",
        "    while p * p <= 1000:\n",
        "        if primes[p]:\n",
        "            for i in range(p * p, 1000, p):\n",
        "                primes[i] = False\n",
        "        p += 1\n",
        "\n",
        "    for num in range(2, 1000):\n",
        "        if primes[num]:\n",
        "            yield num\n",
        "\n",
        "prime_generator = generate_primes()\n",
        "\n",
        "print(\"First 20 prime numbers less than 1000:\")\n",
        "for x in range(20):\n",
        "    print(next(prime_generator))\n"
      ]
    },
    {
      "cell_type": "code",
      "execution_count": 68,
      "metadata": {
        "id": "-HH2LDtJXuhQ"
      },
      "outputs": [],
      "source": [
        "##Q6\n",
        "def fib():\n",
        "  a,b = 0,1\n",
        "  i = 0\n",
        "  while i<10:\n",
        "    yield a\n",
        "    a,b = b,a+b\n",
        "    i +=1"
      ]
    },
    {
      "cell_type": "code",
      "execution_count": 70,
      "metadata": {
        "id": "HcGuwpaYXxo2"
      },
      "outputs": [],
      "source": [
        "fib_10=fib()"
      ]
    },
    {
      "cell_type": "code",
      "execution_count": 71,
      "metadata": {
        "id": "J93JQh4vs-p9",
        "colab": {
          "base_uri": "https://localhost:8080/"
        },
        "outputId": "0f414969-dd0c-49a3-daea-9f0f97d00b46"
      },
      "outputs": [
        {
          "output_type": "stream",
          "name": "stdout",
          "text": [
            "0\n",
            "1\n",
            "1\n",
            "2\n",
            "3\n",
            "5\n",
            "8\n",
            "13\n",
            "21\n",
            "34\n"
          ]
        }
      ],
      "source": [
        "for item in fib_10:\n",
        "  print(item)"
      ]
    },
    {
      "cell_type": "code",
      "source": [
        "#Q7\n",
        "a =[i for i in 'pwskills']\n",
        "a"
      ],
      "metadata": {
        "colab": {
          "base_uri": "https://localhost:8080/"
        },
        "id": "2pwnEid8w3w0",
        "outputId": "2d5ce94c-7115-4ca2-bc93-27b8ba549557"
      },
      "execution_count": 80,
      "outputs": [
        {
          "output_type": "execute_result",
          "data": {
            "text/plain": [
              "['p', 'w', 's', 'k', 'i', 'l', 'l', 's']"
            ]
          },
          "metadata": {},
          "execution_count": 80
        }
      ]
    },
    {
      "cell_type": "code",
      "source": [
        "#Q8\n",
        "def palindrome(number):\n",
        "  og = number\n",
        "  reverse = 0\n",
        "  while number > 0:\n",
        "    digit = number%10\n",
        "    reverse = reverse*10 + digit\n",
        "    number //= 10\n",
        "\n",
        "  if og == reverse:\n",
        "    return True\n",
        "  else:\n",
        "    return False\n",
        "\n",
        "no = int(input(\"Please enter number:\"))\n",
        "\n",
        "if palindrome(no):\n",
        "  print(\"number is palindrome\")\n",
        "else:\n",
        "  print(\"number is not palindrome\")\n"
      ],
      "metadata": {
        "colab": {
          "base_uri": "https://localhost:8080/"
        },
        "id": "EzputtH_yYl3",
        "outputId": "f52d4672-c86c-4c37-fe86-b258fd945fcc"
      },
      "execution_count": 91,
      "outputs": [
        {
          "output_type": "stream",
          "name": "stdout",
          "text": [
            "Please enter number:163\n",
            "number is not palindrome\n"
          ]
        }
      ]
    },
    {
      "cell_type": "code",
      "source": [
        "#Q9\n",
        "num_list = [x for x in range(100)]\n",
        "odd_num = [y for y in num_list if y%2!=0]\n"
      ],
      "metadata": {
        "id": "YK7walIxyh3V"
      },
      "execution_count": 98,
      "outputs": []
    },
    {
      "cell_type": "code",
      "source": [
        "odd_num"
      ],
      "metadata": {
        "colab": {
          "base_uri": "https://localhost:8080/"
        },
        "id": "tmKH74kr6eJF",
        "outputId": "883c7684-7e8e-4093-facd-76db36bff827"
      },
      "execution_count": 99,
      "outputs": [
        {
          "output_type": "execute_result",
          "data": {
            "text/plain": [
              "[1,\n",
              " 3,\n",
              " 5,\n",
              " 7,\n",
              " 9,\n",
              " 11,\n",
              " 13,\n",
              " 15,\n",
              " 17,\n",
              " 19,\n",
              " 21,\n",
              " 23,\n",
              " 25,\n",
              " 27,\n",
              " 29,\n",
              " 31,\n",
              " 33,\n",
              " 35,\n",
              " 37,\n",
              " 39,\n",
              " 41,\n",
              " 43,\n",
              " 45,\n",
              " 47,\n",
              " 49,\n",
              " 51,\n",
              " 53,\n",
              " 55,\n",
              " 57,\n",
              " 59,\n",
              " 61,\n",
              " 63,\n",
              " 65,\n",
              " 67,\n",
              " 69,\n",
              " 71,\n",
              " 73,\n",
              " 75,\n",
              " 77,\n",
              " 79,\n",
              " 81,\n",
              " 83,\n",
              " 85,\n",
              " 87,\n",
              " 89,\n",
              " 91,\n",
              " 93,\n",
              " 95,\n",
              " 97,\n",
              " 99]"
            ]
          },
          "metadata": {},
          "execution_count": 99
        }
      ]
    },
    {
      "cell_type": "code",
      "source": [],
      "metadata": {
        "id": "i7QStBnk-H3X"
      },
      "execution_count": null,
      "outputs": []
    }
  ],
  "metadata": {
    "colab": {
      "provenance": []
    },
    "kernelspec": {
      "display_name": "Python 3",
      "name": "python3"
    },
    "language_info": {
      "name": "python"
    }
  },
  "nbformat": 4,
  "nbformat_minor": 0
}